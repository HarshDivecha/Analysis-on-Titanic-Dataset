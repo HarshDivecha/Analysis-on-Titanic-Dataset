{
 "cells": [
  {
   "cell_type": "markdown",
   "metadata": {},
   "source": [
    "# Getting background information:\n",
    "---\n",
    "\n",
    "- New York City is divided into 5 boroughs, which are essentially distinct regions.\n",
    "- Schools in New York City are divided into several school district, each of which can contain dozens of schools.\n",
    "- Not all the schools in all of the datasets are high schools, so we’ll need to do some data cleaning.\n",
    "- Each school in New York City has a unique code called a DBN, or District Borough Number.\n",
    "- By aggregating data by district, we can use the district mapping data to plot district-by-district differences.\n"
   ]
  },
  {
   "cell_type": "markdown",
   "metadata": {},
   "source": [
    "### Process:\n",
    "---\n",
    "- Loop through each data file we downloaded.\n",
    "- Read the file into a Pandas DataFrame.\n",
    "- Put each DataFrame into a Python dictionary.\n"
   ]
  },
  {
   "cell_type": "code",
   "execution_count": 1,
   "metadata": {},
   "outputs": [
    {
     "name": "stderr",
     "output_type": "stream",
     "text": [
      "/home/harsh/anaconda2/lib/python2.7/site-packages/numexpr/cpuinfo.py:42: UserWarning: [Errno 2] No such file or directory\n",
      "  warnings.warn(str(e), UserWarning, stacklevel=stacklevel)\n"
     ]
    }
   ],
   "source": [
    "%matplotlib inline\n",
    "\n",
    "import pandas as pd\n",
    "import numpy as np\n",
    "import matplotlib.pyplot as plt\n",
    "import seaborn as sns"
   ]
  },
  {
   "cell_type": "code",
   "execution_count": 2,
   "metadata": {
    "collapsed": true
   },
   "outputs": [],
   "source": [
    "files = ['ap_2010.csv','class_size.csv','demographics.csv','graduation.csv','sat_results.csv','math_result.csv','hs_directory.csv']\n",
    "data={}\n",
    "\n",
    "for f in files:\n",
    "    d = pd.read_csv(\"NYC_SAT_DATASETS/{0}\".format(f))\n",
    "    \n",
    "    data[f.replace('.csv','')] = d\n"
   ]
  },
  {
   "cell_type": "code",
   "execution_count": 3,
   "metadata": {
    "scrolled": true
   },
   "outputs": [
    {
     "name": "stdout",
     "output_type": "stream",
     "text": [
      "sat_results \n",
      "------------------------------------------------------------------------------------------\n",
      "      DBN                                    SCHOOL NAME  \\\n",
      "0  01M292  HENRY STREET SCHOOL FOR INTERNATIONAL STUDIES   \n",
      "1  01M448            UNIVERSITY NEIGHBORHOOD HIGH SCHOOL   \n",
      "2  01M450                     EAST SIDE COMMUNITY SCHOOL   \n",
      "3  01M458                      FORSYTH SATELLITE ACADEMY   \n",
      "4  01M509                        MARTA VALLE HIGH SCHOOL   \n",
      "\n",
      "  Num of SAT Test Takers SAT Critical Reading Avg. Score SAT Math Avg. Score  \\\n",
      "0                     29                             355                 404   \n",
      "1                     91                             383                 423   \n",
      "2                     70                             377                 402   \n",
      "3                      7                             414                 401   \n",
      "4                     44                             390                 433   \n",
      "\n",
      "  SAT Writing Avg. Score  \n",
      "0                    363  \n",
      "1                    366  \n",
      "2                    370  \n",
      "3                    359  \n",
      "4                    384   \n",
      "------------------------------------------------------------------------------------------\n",
      "demographics \n",
      "------------------------------------------------------------------------------------------\n",
      "      DBN                       Name  schoolyear fl_percent  frl_percent  \\\n",
      "0  01M015  P.S. 015 ROBERTO CLEMENTE    20052006       89.4          NaN   \n",
      "1  01M015  P.S. 015 ROBERTO CLEMENTE    20062007       89.4          NaN   \n",
      "2  01M015  P.S. 015 ROBERTO CLEMENTE    20072008       89.4          NaN   \n",
      "3  01M015  P.S. 015 ROBERTO CLEMENTE    20082009       89.4          NaN   \n",
      "4  01M015  P.S. 015 ROBERTO CLEMENTE    20092010                    96.5   \n",
      "\n",
      "   total_enrollment prek   k grade1 grade2    ...     black_num black_per  \\\n",
      "0               281   15  36     40     33    ...            74      26.3   \n",
      "1               243   15  29     39     38    ...            68      28.0   \n",
      "2               261   18  43     39     36    ...            77      29.5   \n",
      "3               252   17  37     44     32    ...            75      29.8   \n",
      "4               208   16  40     28     32    ...            67      32.2   \n",
      "\n",
      "  hispanic_num hispanic_per white_num white_per male_num male_per female_num  \\\n",
      "0          189         67.3         5       1.8    158.0     56.2      123.0   \n",
      "1          153         63.0         4       1.6    140.0     57.6      103.0   \n",
      "2          157         60.2         7       2.7    143.0     54.8      118.0   \n",
      "3          149         59.1         7       2.8    149.0     59.1      103.0   \n",
      "4          118         56.7         6       2.9    124.0     59.6       84.0   \n",
      "\n",
      "  female_per  \n",
      "0       43.8  \n",
      "1       42.4  \n",
      "2       45.2  \n",
      "3       40.9  \n",
      "4       40.4  \n",
      "\n",
      "[5 rows x 38 columns] \n",
      "------------------------------------------------------------------------------------------\n",
      "graduation \n",
      "------------------------------------------------------------------------------------------\n",
      "    Demographic     DBN                            School Name    Cohort  \\\n",
      "0  Total Cohort  01M292  HENRY STREET SCHOOL FOR INTERNATIONAL      2003   \n",
      "1  Total Cohort  01M292  HENRY STREET SCHOOL FOR INTERNATIONAL      2004   \n",
      "2  Total Cohort  01M292  HENRY STREET SCHOOL FOR INTERNATIONAL      2005   \n",
      "3  Total Cohort  01M292  HENRY STREET SCHOOL FOR INTERNATIONAL      2006   \n",
      "4  Total Cohort  01M292  HENRY STREET SCHOOL FOR INTERNATIONAL  2006 Aug   \n",
      "\n",
      "   Total Cohort Total Grads - n Total Grads - % of cohort Total Regents - n  \\\n",
      "0             5               s                         s                 s   \n",
      "1            55              37                     67.3%                17   \n",
      "2            64              43                     67.2%                27   \n",
      "3            78              43                     55.1%                36   \n",
      "4            78              44                     56.4%                37   \n",
      "\n",
      "  Total Regents - % of cohort Total Regents - % of grads  \\\n",
      "0                           s                          s   \n",
      "1                       30.9%                      45.9%   \n",
      "2                       42.2%                      62.8%   \n",
      "3                       46.2%                      83.7%   \n",
      "4                       47.4%                      84.1%   \n",
      "\n",
      "             ...            Regents w/o Advanced - n  \\\n",
      "0            ...                                   s   \n",
      "1            ...                                  17   \n",
      "2            ...                                  27   \n",
      "3            ...                                  36   \n",
      "4            ...                                  37   \n",
      "\n",
      "  Regents w/o Advanced - % of cohort Regents w/o Advanced - % of grads  \\\n",
      "0                                  s                                 s   \n",
      "1                              30.9%                             45.9%   \n",
      "2                              42.2%                             62.8%   \n",
      "3                              46.2%                             83.7%   \n",
      "4                              47.4%                             84.1%   \n",
      "\n",
      "  Local - n Local - % of cohort   Local - % of grads Still Enrolled - n  \\\n",
      "0         s                   s                    s                  s   \n",
      "1        20               36.4%                54.1%                 15   \n",
      "2        16                 25%  37.200000000000003%                  9   \n",
      "3         7                  9%                16.3%                 16   \n",
      "4         7                  9%                15.9%                 15   \n",
      "\n",
      "  Still Enrolled - % of cohort Dropped Out - n Dropped Out - % of cohort  \n",
      "0                            s               s                         s  \n",
      "1                        27.3%               3                      5.5%  \n",
      "2                        14.1%               9                     14.1%  \n",
      "3                        20.5%              11                     14.1%  \n",
      "4                        19.2%              11                     14.1%  \n",
      "\n",
      "[5 rows x 23 columns] \n",
      "------------------------------------------------------------------------------------------\n",
      "hs_directory \n",
      "------------------------------------------------------------------------------------------\n",
      "      dbn                                        school_name    borough  \\\n",
      "0  17K548                Brooklyn School for Music & Theatre   Brooklyn   \n",
      "1  09X543                   High School for Violin and Dance      Bronx   \n",
      "2  09X327        Comprehensive Model School Project M.S. 327      Bronx   \n",
      "3  02M280     Manhattan Early College School for Advertising  Manhattan   \n",
      "4  28Q680  Queens Gateway to Health Sciences Secondary Sc...     Queens   \n",
      "\n",
      "  building_code    phone_number    fax_number  grade_span_min  grade_span_max  \\\n",
      "0          K440    718-230-6250  718-230-6262             9.0              12   \n",
      "1          X400    718-842-0687  718-589-9849             9.0              12   \n",
      "2          X240    718-294-8111  718-294-8109             6.0              12   \n",
      "3          M520  718-935-3477             NaN             9.0              10   \n",
      "4          Q695    718-969-3155  718-969-3552             6.0              12   \n",
      "\n",
      "   expgrade_span_min  expgrade_span_max  \\\n",
      "0                NaN                NaN   \n",
      "1                NaN                NaN   \n",
      "2                NaN                NaN   \n",
      "3                9.0               14.0   \n",
      "4                NaN                NaN   \n",
      "\n",
      "                         ...                         priority08 priority09  \\\n",
      "0                        ...                                NaN        NaN   \n",
      "1                        ...                                NaN        NaN   \n",
      "2                        ...                                NaN        NaN   \n",
      "3                        ...                                NaN        NaN   \n",
      "4                        ...                                NaN        NaN   \n",
      "\n",
      "  priority10                                         Location 1  \\\n",
      "0        NaN  883 Classon Avenue\\nBrooklyn, NY 11225\\n(40.67...   \n",
      "1        NaN  1110 Boston Road\\nBronx, NY 10456\\n(40.8276026...   \n",
      "2        NaN  1501 Jerome Avenue\\nBronx, NY 10452\\n(40.84241...   \n",
      "3        NaN  411 Pearl Street\\nNew York, NY 10038\\n(40.7106...   \n",
      "4        NaN  160 20 Goethals Avenue\\nJamaica, NY 11432\\n(40...   \n",
      "\n",
      "  Community Board  Council District Census Tract        BIN           BBL  \\\n",
      "0             9.0              35.0        213.0  3029686.0  3.011870e+09   \n",
      "1             3.0              16.0        135.0  2004526.0  2.026340e+09   \n",
      "2             4.0              14.0        209.0  2008336.0  2.028590e+09   \n",
      "3             1.0               1.0         29.0  1001388.0  1.001130e+09   \n",
      "4             8.0              24.0       1267.0  4539721.0  4.068580e+09   \n",
      "\n",
      "                                                 NTA  \n",
      "0  Crown Heights South                           ...  \n",
      "1  Morrisania-Melrose                            ...  \n",
      "2  West Concourse                                ...  \n",
      "3  Chinatown                                     ...  \n",
      "4  Pomonok-Flushing Heights-Hillcrest            ...  \n",
      "\n",
      "[5 rows x 64 columns] \n",
      "------------------------------------------------------------------------------------------\n",
      "ap_2010 \n",
      "------------------------------------------------------------------------------------------\n",
      "      DBN                             SchoolName AP Test Takers   \\\n",
      "0  01M448           UNIVERSITY NEIGHBORHOOD H.S.              39   \n",
      "1  01M450                 EAST SIDE COMMUNITY HS              19   \n",
      "2  01M515                    LOWER EASTSIDE PREP              24   \n",
      "3  01M539         NEW EXPLORATIONS SCI,TECH,MATH             255   \n",
      "4  02M296  High School of Hospitality Management               s   \n",
      "\n",
      "  Total Exams Taken Number of Exams with scores 3 4 or 5  \n",
      "0                49                                   10  \n",
      "1                21                                    s  \n",
      "2                26                                   24  \n",
      "3               377                                  191  \n",
      "4                 s                                    s   \n",
      "------------------------------------------------------------------------------------------\n",
      "math_result \n",
      "------------------------------------------------------------------------------------------\n",
      "      DBN Grade  Year      Category  Number Tested Mean Scale Score Level 1 #  \\\n",
      "0  01M015     3  2006  All Students             39              667         2   \n",
      "1  01M015     3  2007  All Students             31              672         2   \n",
      "2  01M015     3  2008  All Students             37              668         0   \n",
      "3  01M015     3  2009  All Students             33              668         0   \n",
      "4  01M015     3  2010  All Students             26              677         6   \n",
      "\n",
      "  Level 1 % Level 2 # Level 2 % Level 3 # Level 3 % Level 4 # Level 4 %  \\\n",
      "0      5.1%        11     28.2%        20     51.3%         6     15.4%   \n",
      "1      6.5%         3      9.7%        22       71%         4     12.9%   \n",
      "2        0%         6     16.2%        29     78.4%         2      5.4%   \n",
      "3        0%         4     12.1%        28     84.8%         1        3%   \n",
      "4     23.1%        12     46.2%         6     23.1%         2      7.7%   \n",
      "\n",
      "  Level 3+4 # Level 3+4 %  \n",
      "0          26       66.7%  \n",
      "1          26       83.9%  \n",
      "2          31       83.8%  \n",
      "3          29       87.9%  \n",
      "4           8       30.8%   \n",
      "------------------------------------------------------------------------------------------\n",
      "class_size \n",
      "------------------------------------------------------------------------------------------\n",
      "   CSD BOROUGH SCHOOL CODE                SCHOOL NAME GRADE  PROGRAM TYPE  \\\n",
      "0    1       M        M015  P.S. 015 Roberto Clemente     0K       GEN ED   \n",
      "1    1       M        M015  P.S. 015 Roberto Clemente     0K          CTT   \n",
      "2    1       M        M015  P.S. 015 Roberto Clemente     01       GEN ED   \n",
      "3    1       M        M015  P.S. 015 Roberto Clemente     01          CTT   \n",
      "4    1       M        M015  P.S. 015 Roberto Clemente     02       GEN ED   \n",
      "\n",
      "  CORE SUBJECT (MS CORE and 9-12 ONLY) CORE COURSE (MS CORE and 9-12 ONLY)  \\\n",
      "0                                    -                                   -   \n",
      "1                                    -                                   -   \n",
      "2                                    -                                   -   \n",
      "3                                    -                                   -   \n",
      "4                                    -                                   -   \n",
      "\n",
      "  SERVICE CATEGORY(K-9* ONLY)  NUMBER OF STUDENTS / SEATS FILLED  \\\n",
      "0                           -                               19.0   \n",
      "1                           -                               21.0   \n",
      "2                           -                               17.0   \n",
      "3                           -                               17.0   \n",
      "4                           -                               15.0   \n",
      "\n",
      "   NUMBER OF SECTIONS  AVERAGE CLASS SIZE  SIZE OF SMALLEST CLASS  \\\n",
      "0                 1.0                19.0                    19.0   \n",
      "1                 1.0                21.0                    21.0   \n",
      "2                 1.0                17.0                    17.0   \n",
      "3                 1.0                17.0                    17.0   \n",
      "4                 1.0                15.0                    15.0   \n",
      "\n",
      "   SIZE OF LARGEST CLASS DATA SOURCE  SCHOOLWIDE PUPIL-TEACHER RATIO  \n",
      "0                   19.0         ATS                             NaN  \n",
      "1                   21.0         ATS                             NaN  \n",
      "2                   17.0         ATS                             NaN  \n",
      "3                   17.0         ATS                             NaN  \n",
      "4                   15.0         ATS                             NaN   \n",
      "------------------------------------------------------------------------------------------\n"
     ]
    }
   ],
   "source": [
    "for key,df in data.items():\n",
    "    print key,\"\\n\",\"-\"*90\n",
    "    print df.head(5),\"\\n\",\"-\"*90"
   ]
  },
  {
   "cell_type": "markdown",
   "metadata": {},
   "source": [
    "---\n",
    "### Some useful patters that can be observed:\n",
    "\n",
    "\n",
    "- Most of the datasets contain a DBN column\n",
    "- Some fields look interesting for mapping, particularly Location 1, which contains coordinates inside a larger string.\n",
    "- Some of the datasets appear to contain multiple rows for each school (repeated DBN values), which means we’ll have to do some preprocessing.\n",
    "---\n",
    "### Observations for cleaning :\n",
    "- We can merge these multiple datasets using the DBN column (DBN is a unique code for each school).\n",
    "- two of the datasets, class_size, and hs_directory, don’t have a DBN field.\n",
    "- In the hs_directory data, it’s just named dbn, so we can just rename the column, or copy it over into a new column called DBN.\n",
    "- In the class_size data, we’ll need to try a different approach.\n",
    "---\n",
    "<font size=3>\n",
    "On close inspection we find that DBN is actually a combination of three columns from class size:<br>\n",
    "1.CSD <br>\n",
    "2.BOROUGH<br>\n",
    "3.SCHOOL CODE<br><br>\n",
    "\n",
    "Have a look below:\n",
    "</font>\n"
   ]
  },
  {
   "cell_type": "code",
   "execution_count": 4,
   "metadata": {},
   "outputs": [
    {
     "data": {
      "text/html": [
       "<div>\n",
       "<style>\n",
       "    .dataframe thead tr:only-child th {\n",
       "        text-align: right;\n",
       "    }\n",
       "\n",
       "    .dataframe thead th {\n",
       "        text-align: left;\n",
       "    }\n",
       "\n",
       "    .dataframe tbody tr th {\n",
       "        vertical-align: top;\n",
       "    }\n",
       "</style>\n",
       "<table border=\"1\" class=\"dataframe\">\n",
       "  <thead>\n",
       "    <tr style=\"text-align: right;\">\n",
       "      <th></th>\n",
       "      <th>CSD</th>\n",
       "      <th>BOROUGH</th>\n",
       "      <th>SCHOOL CODE</th>\n",
       "      <th>SCHOOL NAME</th>\n",
       "      <th>GRADE</th>\n",
       "      <th>PROGRAM TYPE</th>\n",
       "      <th>CORE SUBJECT (MS CORE and 9-12 ONLY)</th>\n",
       "      <th>CORE COURSE (MS CORE and 9-12 ONLY)</th>\n",
       "      <th>SERVICE CATEGORY(K-9* ONLY)</th>\n",
       "      <th>NUMBER OF STUDENTS / SEATS FILLED</th>\n",
       "      <th>NUMBER OF SECTIONS</th>\n",
       "      <th>AVERAGE CLASS SIZE</th>\n",
       "      <th>SIZE OF SMALLEST CLASS</th>\n",
       "      <th>SIZE OF LARGEST CLASS</th>\n",
       "      <th>DATA SOURCE</th>\n",
       "      <th>SCHOOLWIDE PUPIL-TEACHER RATIO</th>\n",
       "    </tr>\n",
       "  </thead>\n",
       "  <tbody>\n",
       "    <tr>\n",
       "      <th>0</th>\n",
       "      <td>1</td>\n",
       "      <td>M</td>\n",
       "      <td>M015</td>\n",
       "      <td>P.S. 015 Roberto Clemente</td>\n",
       "      <td>0K</td>\n",
       "      <td>GEN ED</td>\n",
       "      <td>-</td>\n",
       "      <td>-</td>\n",
       "      <td>-</td>\n",
       "      <td>19.0</td>\n",
       "      <td>1.0</td>\n",
       "      <td>19.0</td>\n",
       "      <td>19.0</td>\n",
       "      <td>19.0</td>\n",
       "      <td>ATS</td>\n",
       "      <td>NaN</td>\n",
       "    </tr>\n",
       "    <tr>\n",
       "      <th>1</th>\n",
       "      <td>1</td>\n",
       "      <td>M</td>\n",
       "      <td>M015</td>\n",
       "      <td>P.S. 015 Roberto Clemente</td>\n",
       "      <td>0K</td>\n",
       "      <td>CTT</td>\n",
       "      <td>-</td>\n",
       "      <td>-</td>\n",
       "      <td>-</td>\n",
       "      <td>21.0</td>\n",
       "      <td>1.0</td>\n",
       "      <td>21.0</td>\n",
       "      <td>21.0</td>\n",
       "      <td>21.0</td>\n",
       "      <td>ATS</td>\n",
       "      <td>NaN</td>\n",
       "    </tr>\n",
       "    <tr>\n",
       "      <th>2</th>\n",
       "      <td>1</td>\n",
       "      <td>M</td>\n",
       "      <td>M015</td>\n",
       "      <td>P.S. 015 Roberto Clemente</td>\n",
       "      <td>01</td>\n",
       "      <td>GEN ED</td>\n",
       "      <td>-</td>\n",
       "      <td>-</td>\n",
       "      <td>-</td>\n",
       "      <td>17.0</td>\n",
       "      <td>1.0</td>\n",
       "      <td>17.0</td>\n",
       "      <td>17.0</td>\n",
       "      <td>17.0</td>\n",
       "      <td>ATS</td>\n",
       "      <td>NaN</td>\n",
       "    </tr>\n",
       "    <tr>\n",
       "      <th>3</th>\n",
       "      <td>1</td>\n",
       "      <td>M</td>\n",
       "      <td>M015</td>\n",
       "      <td>P.S. 015 Roberto Clemente</td>\n",
       "      <td>01</td>\n",
       "      <td>CTT</td>\n",
       "      <td>-</td>\n",
       "      <td>-</td>\n",
       "      <td>-</td>\n",
       "      <td>17.0</td>\n",
       "      <td>1.0</td>\n",
       "      <td>17.0</td>\n",
       "      <td>17.0</td>\n",
       "      <td>17.0</td>\n",
       "      <td>ATS</td>\n",
       "      <td>NaN</td>\n",
       "    </tr>\n",
       "  </tbody>\n",
       "</table>\n",
       "</div>"
      ],
      "text/plain": [
       "   CSD BOROUGH SCHOOL CODE                SCHOOL NAME GRADE  PROGRAM TYPE  \\\n",
       "0    1       M        M015  P.S. 015 Roberto Clemente     0K       GEN ED   \n",
       "1    1       M        M015  P.S. 015 Roberto Clemente     0K          CTT   \n",
       "2    1       M        M015  P.S. 015 Roberto Clemente     01       GEN ED   \n",
       "3    1       M        M015  P.S. 015 Roberto Clemente     01          CTT   \n",
       "\n",
       "  CORE SUBJECT (MS CORE and 9-12 ONLY) CORE COURSE (MS CORE and 9-12 ONLY)  \\\n",
       "0                                    -                                   -   \n",
       "1                                    -                                   -   \n",
       "2                                    -                                   -   \n",
       "3                                    -                                   -   \n",
       "\n",
       "  SERVICE CATEGORY(K-9* ONLY)  NUMBER OF STUDENTS / SEATS FILLED  \\\n",
       "0                           -                               19.0   \n",
       "1                           -                               21.0   \n",
       "2                           -                               17.0   \n",
       "3                           -                               17.0   \n",
       "\n",
       "   NUMBER OF SECTIONS  AVERAGE CLASS SIZE  SIZE OF SMALLEST CLASS  \\\n",
       "0                 1.0                19.0                    19.0   \n",
       "1                 1.0                21.0                    21.0   \n",
       "2                 1.0                17.0                    17.0   \n",
       "3                 1.0                17.0                    17.0   \n",
       "\n",
       "   SIZE OF LARGEST CLASS DATA SOURCE  SCHOOLWIDE PUPIL-TEACHER RATIO  \n",
       "0                   19.0         ATS                             NaN  \n",
       "1                   21.0         ATS                             NaN  \n",
       "2                   17.0         ATS                             NaN  \n",
       "3                   17.0         ATS                             NaN  "
      ]
     },
     "execution_count": 4,
     "metadata": {},
     "output_type": "execute_result"
    }
   ],
   "source": [
    "data['class_size'].head(4)"
   ]
  },
  {
   "cell_type": "code",
   "execution_count": 5,
   "metadata": {},
   "outputs": [
    {
     "data": {
      "text/plain": [
       "0    01M015\n",
       "1    01M015\n",
       "2    01M015\n",
       "3    01M015\n",
       "Name: DBN, dtype: object"
      ]
     },
     "execution_count": 5,
     "metadata": {},
     "output_type": "execute_result"
    }
   ],
   "source": [
    "data[\"math_result\"].DBN.head(4)"
   ]
  },
  {
   "cell_type": "markdown",
   "metadata": {},
   "source": [
    "---\n",
    "<font size=4>\n",
    "\n",
    "Now we know how to construct DBN. We can now use this knowledge to our advantage and create a new column in \"class_size\" \n",
    "</font>\n",
    "\n",
    "---"
   ]
  },
  {
   "cell_type": "code",
   "execution_count": 6,
   "metadata": {
    "collapsed": true
   },
   "outputs": [],
   "source": [
    "# 0:02d the element(0:) formated as an integer (d) to a field of minimum width 2 (2), with zero-padding on the left (leading 0):\n",
    "\n",
    "f = lambda x: \"{0:02d}{1}\".format(x[\"CSD\"], x[\"SCHOOL CODE\"])"
   ]
  },
  {
   "cell_type": "code",
   "execution_count": 7,
   "metadata": {},
   "outputs": [
    {
     "data": {
      "text/plain": [
       "0    01M015\n",
       "1    01M015\n",
       "2    01M015\n",
       "3    01M015\n",
       "Name: DBN, dtype: object"
      ]
     },
     "execution_count": 7,
     "metadata": {},
     "output_type": "execute_result"
    }
   ],
   "source": [
    "data['class_size']['DBN'] = data['class_size'].apply(f, axis=1)\n",
    "data['class_size']['DBN'].head(4)"
   ]
  },
  {
   "cell_type": "markdown",
   "metadata": {},
   "source": [
    "---\n",
    "\n",
    "<font size=3>\n",
    "We have also found an intresting dataset on student, parent, and teacher surveys about the quality of schools.\n",
    "These surveys include information about the perceived safety of each school, academic standards, and more. <br><br>\n",
    "Lets add the survey data into our data dictionary, and then combine all the datasets afterwards. \n",
    "The survey data consists of 2 files, one for all schools, and one for school district 75.We will now perform these steps:\n",
    "</font>\n",
    "\n",
    "- Read in the surveys for all schools\n",
    "- Read in the surveys for district 75 school\n",
    "- Add a flag that indicates which school district each dataset is for.\n",
    "- Combine the datasets into one using the concat method on DataFrames.\n",
    "---"
   ]
  },
  {
   "cell_type": "markdown",
   "metadata": {},
   "source": [
    "**NOTE:** the survey dataset comes as a zip and contains 2 of the survey files as **xlsx** and two as **.txt**.<br>\n",
    "xlsx will take more than 10 minutes to read so we will use txt files, but these txts are encoded in **windows-1252** format so as to make it faster to read"
   ]
  },
  {
   "cell_type": "code",
   "execution_count": 8,
   "metadata": {
    "collapsed": true
   },
   "outputs": [],
   "source": [
    "survey1 = pd.read_csv(\"NYC_SAT_DATASETS/survey1.txt\",encoding='windows-1252',delimiter=\"\\t\")\n",
    "survey2 = pd.read_csv(\"NYC_SAT_DATASETS/surveyd75.txt\",encoding='windows-1252',delimiter=\"\\t\")  #district 75\n",
    "\n",
    "survey1.d75 = False\n",
    "survey2.d75 = True\n",
    "\n",
    "survey = pd.concat([survey1,survey2],axis=0)"
   ]
  },
  {
   "cell_type": "markdown",
   "metadata": {},
   "source": [
    "---\n",
    "<font size=3>\n",
    "All the information related to the survey data columns and feilds is given in a \"survey data dictionar.xlsx' which comes along with the 4 survey files in the same zip.<br><br>\n",
    "\n",
    "We can use this file to get an insight on the most important columns so that we can eleminate all the unwanted columns and make analysis possible as there are **2773 columns**.\n",
    "</font>\n",
    "\n",
    "---"
   ]
  },
  {
   "cell_type": "code",
   "execution_count": 9,
   "metadata": {
    "collapsed": true
   },
   "outputs": [],
   "source": [
    "survey['DBN'] = survey.dbn\n",
    "columns = [\"DBN\", \"rr_s\", \"rr_t\", \"rr_p\", \"N_s\", \"N_t\", \"N_p\", \"saf_p_11\", \"com_p_11\", \"eng_p_11\", \"aca_p_11\", \"saf_t_11\", \"com_t_11\", \"eng_t_10\", \"aca_t_11\", \"saf_s_11\", \"com_s_11\", \"eng_s_11\", \"aca_s_11\", \"saf_tot_11\", \"com_tot_11\", \"eng_tot_11\", \"aca_tot_11\"]\n",
    "survey = survey.loc[:,columns]\n",
    "\n",
    "data['survey'] = survey"
   ]
  },
  {
   "cell_type": "code",
   "execution_count": 10,
   "metadata": {},
   "outputs": [
    {
     "data": {
      "text/plain": [
       "(1702, 23)"
      ]
     },
     "execution_count": 10,
     "metadata": {},
     "output_type": "execute_result"
    }
   ],
   "source": [
    "survey.shape"
   ]
  },
  {
   "cell_type": "code",
   "execution_count": 11,
   "metadata": {
    "collapsed": true
   },
   "outputs": [],
   "source": [
    "class_size = data['class_size']\n",
    "columns = [i.strip() for i in class_size.columns]\n",
    "class_size.columns = columns"
   ]
  },
  {
   "cell_type": "code",
   "execution_count": 12,
   "metadata": {},
   "outputs": [
    {
     "name": "stdout",
     "output_type": "stream",
     "text": [
      "09-12      10644\n",
      "MS Core     4762\n",
      "0K-09       1384\n",
      "0K          1237\n",
      "Name: GRADE, dtype: int64 \n",
      "--------------------------------------------------\n",
      "GEN ED     14545\n",
      "CTT         7460\n",
      "SPEC ED     3653\n",
      "G&T          469\n",
      "Name: PROGRAM TYPE, dtype: int64\n"
     ]
    }
   ],
   "source": [
    "print class_size.GRADE.value_counts().head(4), '\\n','-'*50\n",
    "print class_size[\"PROGRAM TYPE\"].value_counts().head(4)"
   ]
  },
  {
   "cell_type": "markdown",
   "metadata": {},
   "source": [
    "---\n",
    "<font size=3>\n",
    "With the class_size dataset, it looks like GRADE and PROGRAM TYPE have multiple values for each school. By restricting each field to a single value, we can filter most of the duplicate rows.We will now perform these steps:\n",
    "</font>\n",
    " \n",
    "- Only select values from class_size where the GRADE field is 09-12.\n",
    "- Only select values from class_size where the PROGRAM TYPE field is GEN ED.\n",
    "- Group the class_size dataset by DBN, and take the average of each column. Essentially, we’ll find the average class_size - values for each school.\n",
    "- Reset the index, so DBN is added back in as a column.\n",
    "---"
   ]
  },
  {
   "cell_type": "code",
   "execution_count": 13,
   "metadata": {
    "collapsed": true
   },
   "outputs": [],
   "source": [
    "class_size = class_size[class_size.GRADE == '09-12']\n",
    "class_size = class_size[class_size['PROGRAM TYPE'] == 'GEN ED']\n",
    "class_size = class_size.groupby(\"DBN\").agg(np.mean)\n",
    "class_size.reset_index(inplace=True)\n",
    "data['class_size'] = class_size"
   ]
  },
  {
   "cell_type": "markdown",
   "metadata": {},
   "source": [
    "# Lets now start condensing other datasets:"
   ]
  },
  {
   "cell_type": "markdown",
   "metadata": {},
   "source": [
    "---\n",
    "## Demogrpahics:\n",
    "---\n",
    "The data for **Demographics dataset** was collected for multiple years for the same schools, so there are duplicate rows for each school. We’ll only pick rows where the schoolyear field is the most recent available."
   ]
  },
  {
   "cell_type": "code",
   "execution_count": 14,
   "metadata": {
    "collapsed": true
   },
   "outputs": [],
   "source": [
    "demo = data['demographics']"
   ]
  },
  {
   "cell_type": "code",
   "execution_count": 15,
   "metadata": {},
   "outputs": [
    {
     "data": {
      "text/html": [
       "<div>\n",
       "<style>\n",
       "    .dataframe thead tr:only-child th {\n",
       "        text-align: right;\n",
       "    }\n",
       "\n",
       "    .dataframe thead th {\n",
       "        text-align: left;\n",
       "    }\n",
       "\n",
       "    .dataframe tbody tr th {\n",
       "        vertical-align: top;\n",
       "    }\n",
       "</style>\n",
       "<table border=\"1\" class=\"dataframe\">\n",
       "  <thead>\n",
       "    <tr style=\"text-align: right;\">\n",
       "      <th></th>\n",
       "      <th>DBN</th>\n",
       "      <th>Name</th>\n",
       "      <th>schoolyear</th>\n",
       "      <th>fl_percent</th>\n",
       "      <th>frl_percent</th>\n",
       "      <th>total_enrollment</th>\n",
       "      <th>prek</th>\n",
       "      <th>k</th>\n",
       "      <th>grade1</th>\n",
       "      <th>grade2</th>\n",
       "      <th>...</th>\n",
       "      <th>black_num</th>\n",
       "      <th>black_per</th>\n",
       "      <th>hispanic_num</th>\n",
       "      <th>hispanic_per</th>\n",
       "      <th>white_num</th>\n",
       "      <th>white_per</th>\n",
       "      <th>male_num</th>\n",
       "      <th>male_per</th>\n",
       "      <th>female_num</th>\n",
       "      <th>female_per</th>\n",
       "    </tr>\n",
       "  </thead>\n",
       "  <tbody>\n",
       "    <tr>\n",
       "      <th>0</th>\n",
       "      <td>01M015</td>\n",
       "      <td>P.S. 015 ROBERTO CLEMENTE</td>\n",
       "      <td>20052006</td>\n",
       "      <td>89.4</td>\n",
       "      <td>NaN</td>\n",
       "      <td>281</td>\n",
       "      <td>15</td>\n",
       "      <td>36</td>\n",
       "      <td>40</td>\n",
       "      <td>33</td>\n",
       "      <td>...</td>\n",
       "      <td>74</td>\n",
       "      <td>26.3</td>\n",
       "      <td>189</td>\n",
       "      <td>67.3</td>\n",
       "      <td>5</td>\n",
       "      <td>1.8</td>\n",
       "      <td>158.0</td>\n",
       "      <td>56.2</td>\n",
       "      <td>123.0</td>\n",
       "      <td>43.8</td>\n",
       "    </tr>\n",
       "    <tr>\n",
       "      <th>1</th>\n",
       "      <td>01M015</td>\n",
       "      <td>P.S. 015 ROBERTO CLEMENTE</td>\n",
       "      <td>20062007</td>\n",
       "      <td>89.4</td>\n",
       "      <td>NaN</td>\n",
       "      <td>243</td>\n",
       "      <td>15</td>\n",
       "      <td>29</td>\n",
       "      <td>39</td>\n",
       "      <td>38</td>\n",
       "      <td>...</td>\n",
       "      <td>68</td>\n",
       "      <td>28.0</td>\n",
       "      <td>153</td>\n",
       "      <td>63.0</td>\n",
       "      <td>4</td>\n",
       "      <td>1.6</td>\n",
       "      <td>140.0</td>\n",
       "      <td>57.6</td>\n",
       "      <td>103.0</td>\n",
       "      <td>42.4</td>\n",
       "    </tr>\n",
       "    <tr>\n",
       "      <th>2</th>\n",
       "      <td>01M015</td>\n",
       "      <td>P.S. 015 ROBERTO CLEMENTE</td>\n",
       "      <td>20072008</td>\n",
       "      <td>89.4</td>\n",
       "      <td>NaN</td>\n",
       "      <td>261</td>\n",
       "      <td>18</td>\n",
       "      <td>43</td>\n",
       "      <td>39</td>\n",
       "      <td>36</td>\n",
       "      <td>...</td>\n",
       "      <td>77</td>\n",
       "      <td>29.5</td>\n",
       "      <td>157</td>\n",
       "      <td>60.2</td>\n",
       "      <td>7</td>\n",
       "      <td>2.7</td>\n",
       "      <td>143.0</td>\n",
       "      <td>54.8</td>\n",
       "      <td>118.0</td>\n",
       "      <td>45.2</td>\n",
       "    </tr>\n",
       "  </tbody>\n",
       "</table>\n",
       "<p>3 rows × 38 columns</p>\n",
       "</div>"
      ],
      "text/plain": [
       "      DBN                       Name  schoolyear fl_percent  frl_percent  \\\n",
       "0  01M015  P.S. 015 ROBERTO CLEMENTE    20052006       89.4          NaN   \n",
       "1  01M015  P.S. 015 ROBERTO CLEMENTE    20062007       89.4          NaN   \n",
       "2  01M015  P.S. 015 ROBERTO CLEMENTE    20072008       89.4          NaN   \n",
       "\n",
       "   total_enrollment prek   k grade1 grade2    ...     black_num black_per  \\\n",
       "0               281   15  36     40     33    ...            74      26.3   \n",
       "1               243   15  29     39     38    ...            68      28.0   \n",
       "2               261   18  43     39     36    ...            77      29.5   \n",
       "\n",
       "  hispanic_num hispanic_per white_num white_per male_num male_per female_num  \\\n",
       "0          189         67.3         5       1.8    158.0     56.2      123.0   \n",
       "1          153         63.0         4       1.6    140.0     57.6      103.0   \n",
       "2          157         60.2         7       2.7    143.0     54.8      118.0   \n",
       "\n",
       "  female_per  \n",
       "0       43.8  \n",
       "1       42.4  \n",
       "2       45.2  \n",
       "\n",
       "[3 rows x 38 columns]"
      ]
     },
     "execution_count": 15,
     "metadata": {},
     "output_type": "execute_result"
    }
   ],
   "source": [
    "demo.head(3)"
   ]
  },
  {
   "cell_type": "code",
   "execution_count": 16,
   "metadata": {
    "collapsed": true
   },
   "outputs": [],
   "source": [
    "demo = demo[demo.schoolyear== 20112012]\n",
    "data['demographics'] = demo"
   ]
  },
  {
   "cell_type": "markdown",
   "metadata": {},
   "source": [
    "---\n",
    "# math_result:\n",
    "---\n",
    "<font size=3>\n",
    "We’ll need to condense the math_result dataset. This dataset is segmented by Grade and by Year. We can select only a single grade from a single year:\n",
    "</font>"
   ]
  },
  {
   "cell_type": "code",
   "execution_count": 17,
   "metadata": {
    "collapsed": true
   },
   "outputs": [],
   "source": [
    "data[\"math_result\"] = data[\"math_result\"][data[\"math_result\"][\"Year\"] == 2011]\n",
    "data[\"math_result\"] = data[\"math_result\"][data[\"math_result\"][\"Grade\"] == '8']"
   ]
  },
  {
   "cell_type": "markdown",
   "metadata": {},
   "source": [
    "---\n",
    "## graduation:\n",
    "---\n",
    "<font size=3>\n",
    "Finally, graduation needs to be condensed:\n",
    "</font>"
   ]
  },
  {
   "cell_type": "code",
   "execution_count": 18,
   "metadata": {
    "collapsed": true
   },
   "outputs": [],
   "source": [
    "\n",
    "\n",
    "data[\"graduation\"] = data[\"graduation\"][data[\"graduation\"][\"Cohort\"] == \"2006\"]\n",
    "data[\"graduation\"] = data[\"graduation\"][data[\"graduation\"][\"Demographic\"] == \"Total Cohort\"]\n",
    "\n"
   ]
  },
  {
   "cell_type": "markdown",
   "metadata": {},
   "source": [
    "# Variable Computation:\n",
    "---\n",
    "<font size=3>\n",
    "We will be computing a total SAT score **SAT Math Avg. Score**, **SAT Critical Reading Avg. Score**, and **SAT Writing Avg. Score**. In the below code, we:\n",
    "</font>\n",
    "\n",
    "- Convert each of the SAT score columns from a string to a number.\n",
    "- Add together all of the columns to get the sat_score column, which is the total SAT score.\n"
   ]
  },
  {
   "cell_type": "code",
   "execution_count": 19,
   "metadata": {
    "collapsed": true
   },
   "outputs": [],
   "source": [
    "columns = ['SAT Math Avg. Score', 'SAT Critical Reading Avg. Score','SAT Writing Avg. Score']\n",
    "sat = data[\"sat_results\"]"
   ]
  },
  {
   "cell_type": "code",
   "execution_count": 20,
   "metadata": {},
   "outputs": [
    {
     "name": "stderr",
     "output_type": "stream",
     "text": [
      "/home/harsh/anaconda2/lib/python2.7/site-packages/ipykernel_launcher.py:2: FutureWarning: convert_objects is deprecated.  Use the data-type specific converters pd.to_datetime, pd.to_timedelta and pd.to_numeric.\n",
      "  \n"
     ]
    }
   ],
   "source": [
    "for c in columns:\n",
    "    sat[c] = sat[c].convert_objects(convert_numeric = True)"
   ]
  },
  {
   "cell_type": "code",
   "execution_count": 21,
   "metadata": {
    "collapsed": true
   },
   "outputs": [],
   "source": [
    "sat['sat_score'] = 0\n",
    "\n",
    "for c in columns:\n",
    "    sat['sat_score'] += sat[c]\n",
    "    \n",
    "data['sat_results'] = sat"
   ]
  },
  {
   "cell_type": "code",
   "execution_count": 22,
   "metadata": {},
   "outputs": [
    {
     "data": {
      "text/html": [
       "<div>\n",
       "<style>\n",
       "    .dataframe thead tr:only-child th {\n",
       "        text-align: right;\n",
       "    }\n",
       "\n",
       "    .dataframe thead th {\n",
       "        text-align: left;\n",
       "    }\n",
       "\n",
       "    .dataframe tbody tr th {\n",
       "        vertical-align: top;\n",
       "    }\n",
       "</style>\n",
       "<table border=\"1\" class=\"dataframe\">\n",
       "  <thead>\n",
       "    <tr style=\"text-align: right;\">\n",
       "      <th></th>\n",
       "      <th>DBN</th>\n",
       "      <th>SCHOOL NAME</th>\n",
       "      <th>Num of SAT Test Takers</th>\n",
       "      <th>SAT Critical Reading Avg. Score</th>\n",
       "      <th>SAT Math Avg. Score</th>\n",
       "      <th>SAT Writing Avg. Score</th>\n",
       "      <th>sat_score</th>\n",
       "    </tr>\n",
       "  </thead>\n",
       "  <tbody>\n",
       "    <tr>\n",
       "      <th>0</th>\n",
       "      <td>01M292</td>\n",
       "      <td>HENRY STREET SCHOOL FOR INTERNATIONAL STUDIES</td>\n",
       "      <td>29</td>\n",
       "      <td>355.0</td>\n",
       "      <td>404.0</td>\n",
       "      <td>363.0</td>\n",
       "      <td>1122.0</td>\n",
       "    </tr>\n",
       "    <tr>\n",
       "      <th>1</th>\n",
       "      <td>01M448</td>\n",
       "      <td>UNIVERSITY NEIGHBORHOOD HIGH SCHOOL</td>\n",
       "      <td>91</td>\n",
       "      <td>383.0</td>\n",
       "      <td>423.0</td>\n",
       "      <td>366.0</td>\n",
       "      <td>1172.0</td>\n",
       "    </tr>\n",
       "    <tr>\n",
       "      <th>2</th>\n",
       "      <td>01M450</td>\n",
       "      <td>EAST SIDE COMMUNITY SCHOOL</td>\n",
       "      <td>70</td>\n",
       "      <td>377.0</td>\n",
       "      <td>402.0</td>\n",
       "      <td>370.0</td>\n",
       "      <td>1149.0</td>\n",
       "    </tr>\n",
       "    <tr>\n",
       "      <th>3</th>\n",
       "      <td>01M458</td>\n",
       "      <td>FORSYTH SATELLITE ACADEMY</td>\n",
       "      <td>7</td>\n",
       "      <td>414.0</td>\n",
       "      <td>401.0</td>\n",
       "      <td>359.0</td>\n",
       "      <td>1174.0</td>\n",
       "    </tr>\n",
       "    <tr>\n",
       "      <th>4</th>\n",
       "      <td>01M509</td>\n",
       "      <td>MARTA VALLE HIGH SCHOOL</td>\n",
       "      <td>44</td>\n",
       "      <td>390.0</td>\n",
       "      <td>433.0</td>\n",
       "      <td>384.0</td>\n",
       "      <td>1207.0</td>\n",
       "    </tr>\n",
       "  </tbody>\n",
       "</table>\n",
       "</div>"
      ],
      "text/plain": [
       "      DBN                                    SCHOOL NAME  \\\n",
       "0  01M292  HENRY STREET SCHOOL FOR INTERNATIONAL STUDIES   \n",
       "1  01M448            UNIVERSITY NEIGHBORHOOD HIGH SCHOOL   \n",
       "2  01M450                     EAST SIDE COMMUNITY SCHOOL   \n",
       "3  01M458                      FORSYTH SATELLITE ACADEMY   \n",
       "4  01M509                        MARTA VALLE HIGH SCHOOL   \n",
       "\n",
       "  Num of SAT Test Takers  SAT Critical Reading Avg. Score  \\\n",
       "0                     29                            355.0   \n",
       "1                     91                            383.0   \n",
       "2                     70                            377.0   \n",
       "3                      7                            414.0   \n",
       "4                     44                            390.0   \n",
       "\n",
       "   SAT Math Avg. Score  SAT Writing Avg. Score  sat_score  \n",
       "0                404.0                   363.0     1122.0  \n",
       "1                423.0                   366.0     1172.0  \n",
       "2                402.0                   370.0     1149.0  \n",
       "3                401.0                   359.0     1174.0  \n",
       "4                433.0                   384.0     1207.0  "
      ]
     },
     "execution_count": 22,
     "metadata": {},
     "output_type": "execute_result"
    }
   ],
   "source": [
    "data['sat_results'].head(5)"
   ]
  },
  {
   "cell_type": "markdown",
   "metadata": {},
   "source": [
    "---\n",
    "## hs_directory:\n",
    "---\n",
    "Now we will parse out the coordinate locations of each school, so we can make maps. This will enable us to plot the location of each school. In the below code, we:\n",
    "\n",
    "\n",
    "- Parse latitude and longitude columns from the Location 1 column.\n",
    "- Convert lat and lon to be numeric."
   ]
  },
  {
   "cell_type": "code",
   "execution_count": 23,
   "metadata": {
    "collapsed": true
   },
   "outputs": [],
   "source": [
    "hs_dir = data['hs_directory']\n",
    "\n",
    "hs_dir['lat'] = hs_dir['Location 1'].apply(lambda x: x.split(\"\\n\")[2].replace(\"(\",'').replace(')','').split(\", \")[0])\n",
    "hs_dir['lon'] = hs_dir['Location 1'].apply(lambda x: x.split(\"\\n\")[2].replace(\"(\",'').replace(')','').split(\", \")[1])"
   ]
  },
  {
   "cell_type": "code",
   "execution_count": 24,
   "metadata": {},
   "outputs": [
    {
     "name": "stderr",
     "output_type": "stream",
     "text": [
      "/home/harsh/anaconda2/lib/python2.7/site-packages/ipykernel_launcher.py:2: FutureWarning: convert_objects is deprecated.  Use the data-type specific converters pd.to_datetime, pd.to_timedelta and pd.to_numeric.\n",
      "  \n"
     ]
    }
   ],
   "source": [
    "for c in ['lat','lon']:\n",
    "    hs_dir[c] = hs_dir[c].convert_objects(convert_numeric = True)"
   ]
  },
  {
   "cell_type": "code",
   "execution_count": 25,
   "metadata": {
    "collapsed": true
   },
   "outputs": [],
   "source": [
    "hs_dir['DBN'] = hs_dir.dbn\n",
    "hs_dir.drop(\"dbn\",inplace=True,axis=1)"
   ]
  },
  {
   "cell_type": "code",
   "execution_count": 26,
   "metadata": {
    "collapsed": true
   },
   "outputs": [],
   "source": [
    "data['hs_directory'] = hs_dir"
   ]
  },
  {
   "cell_type": "markdown",
   "metadata": {},
   "source": [
    "## Now lets take a look at our work till now :"
   ]
  },
  {
   "cell_type": "code",
   "execution_count": 27,
   "metadata": {},
   "outputs": [
    {
     "name": "stdout",
     "output_type": "stream",
     "text": [
      "---------------------------------------------------------------------- \n",
      "sat_results \n",
      "---------------------------------------------------------------------- \n",
      "\n",
      "\n",
      "      DBN                                    SCHOOL NAME  \\\n",
      "0  01M292  HENRY STREET SCHOOL FOR INTERNATIONAL STUDIES   \n",
      "1  01M448            UNIVERSITY NEIGHBORHOOD HIGH SCHOOL   \n",
      "2  01M450                     EAST SIDE COMMUNITY SCHOOL   \n",
      "\n",
      "  Num of SAT Test Takers  SAT Critical Reading Avg. Score  \\\n",
      "0                     29                            355.0   \n",
      "1                     91                            383.0   \n",
      "2                     70                            377.0   \n",
      "\n",
      "   SAT Math Avg. Score  SAT Writing Avg. Score  sat_score  \n",
      "0                404.0                   363.0     1122.0  \n",
      "1                423.0                   366.0     1172.0  \n",
      "2                402.0                   370.0     1149.0  \n",
      "---------------------------------------------------------------------- \n",
      "demographics \n",
      "---------------------------------------------------------------------- \n",
      "\n",
      "\n",
      "       DBN                                              Name  schoolyear  \\\n",
      "6   01M015  P.S. 015 ROBERTO CLEMENTE                           20112012   \n",
      "13  01M019  P.S. 019 ASHER LEVY                                 20112012   \n",
      "20  01M020  PS 020 ANNA SILVER                                  20112012   \n",
      "\n",
      "   fl_percent  frl_percent  total_enrollment prek    k grade1 grade2  \\\n",
      "6         NaN         89.4               189   13   31     35     28   \n",
      "13        NaN         61.5               328   32   46     52     54   \n",
      "20        NaN         92.5               626   52  102    121     87   \n",
      "\n",
      "      ...     black_num black_per hispanic_num hispanic_per white_num  \\\n",
      "6     ...            63      33.3          109         57.7         4   \n",
      "13    ...            81      24.7          158         48.2        28   \n",
      "20    ...            55       8.8          357         57.0        16   \n",
      "\n",
      "   white_per male_num male_per female_num female_per  \n",
      "6        2.1     97.0     51.3       92.0       48.7  \n",
      "13       8.5    147.0     44.8      181.0       55.2  \n",
      "20       2.6    330.0     52.7      296.0       47.3  \n",
      "\n",
      "[3 rows x 38 columns]\n",
      "---------------------------------------------------------------------- \n",
      "graduation \n",
      "---------------------------------------------------------------------- \n",
      "\n",
      "\n",
      "     Demographic     DBN                            School Name Cohort  \\\n",
      "3   Total Cohort  01M292  HENRY STREET SCHOOL FOR INTERNATIONAL   2006   \n",
      "10  Total Cohort  01M448    UNIVERSITY NEIGHBORHOOD HIGH SCHOOL   2006   \n",
      "17  Total Cohort  01M450             EAST SIDE COMMUNITY SCHOOL   2006   \n",
      "\n",
      "    Total Cohort Total Grads - n Total Grads - % of cohort Total Regents - n  \\\n",
      "3             78              43                     55.1%                36   \n",
      "10           124              53                     42.7%                42   \n",
      "17            90              70                     77.8%                67   \n",
      "\n",
      "   Total Regents - % of cohort Total Regents - % of grads  \\\n",
      "3                        46.2%                      83.7%   \n",
      "10                       33.9%                      79.2%   \n",
      "17         74.400000000000006%                      95.7%   \n",
      "\n",
      "              ...            Regents w/o Advanced - n  \\\n",
      "3             ...                                  36   \n",
      "10            ...                                  34   \n",
      "17            ...                                  67   \n",
      "\n",
      "   Regents w/o Advanced - % of cohort Regents w/o Advanced - % of grads  \\\n",
      "3                               46.2%                             83.7%   \n",
      "10                              27.4%                             64.2%   \n",
      "17                74.400000000000006%                             95.7%   \n",
      "\n",
      "   Local - n Local - % of cohort Local - % of grads Still Enrolled - n  \\\n",
      "3          7                  9%              16.3%                 16   \n",
      "10        11                8.9%              20.8%                 46   \n",
      "17         3                3.3%               4.3%                 15   \n",
      "\n",
      "   Still Enrolled - % of cohort Dropped Out - n Dropped Out - % of cohort  \n",
      "3                         20.5%              11                     14.1%  \n",
      "10                        37.1%              20       16.100000000000001%  \n",
      "17                        16.7%               5                      5.6%  \n",
      "\n",
      "[3 rows x 23 columns]\n",
      "---------------------------------------------------------------------- \n",
      "hs_directory \n",
      "---------------------------------------------------------------------- \n",
      "\n",
      "\n",
      "                                   school_name   borough building_code  \\\n",
      "0          Brooklyn School for Music & Theatre  Brooklyn          K440   \n",
      "1             High School for Violin and Dance     Bronx          X400   \n",
      "2  Comprehensive Model School Project M.S. 327     Bronx          X240   \n",
      "\n",
      "   phone_number    fax_number  grade_span_min  grade_span_max  \\\n",
      "0  718-230-6250  718-230-6262             9.0              12   \n",
      "1  718-842-0687  718-589-9849             9.0              12   \n",
      "2  718-294-8111  718-294-8109             6.0              12   \n",
      "\n",
      "   expgrade_span_min  expgrade_span_max  \\\n",
      "0                NaN                NaN   \n",
      "1                NaN                NaN   \n",
      "2                NaN                NaN   \n",
      "\n",
      "                                                 bus   ...    \\\n",
      "0              B41, B43, B44-SBS, B45, B48, B49, B69   ...     \n",
      "1  Bx13, Bx15, Bx17, Bx21, Bx35, Bx4, Bx41, Bx4A,...   ...     \n",
      "2  Bx1, Bx11, Bx13, Bx18, Bx2, Bx3, Bx32, Bx35, Bx36   ...     \n",
      "\n",
      "                                          Location 1 Community Board  \\\n",
      "0  883 Classon Avenue\\nBrooklyn, NY 11225\\n(40.67...             9.0   \n",
      "1  1110 Boston Road\\nBronx, NY 10456\\n(40.8276026...             3.0   \n",
      "2  1501 Jerome Avenue\\nBronx, NY 10452\\n(40.84241...             4.0   \n",
      "\n",
      "  Council District Census Tract        BIN           BBL  \\\n",
      "0             35.0        213.0  3029686.0  3.011870e+09   \n",
      "1             16.0        135.0  2004526.0  2.026340e+09   \n",
      "2             14.0        209.0  2008336.0  2.028590e+09   \n",
      "\n",
      "                                                 NTA        lat        lon  \\\n",
      "0  Crown Heights South                           ...  40.670299 -73.961648   \n",
      "1  Morrisania-Melrose                            ...  40.827603 -73.904475   \n",
      "2  West Concourse                                ...  40.842414 -73.916162   \n",
      "\n",
      "      DBN  \n",
      "0  17K548  \n",
      "1  09X543  \n",
      "2  09X327  \n",
      "\n",
      "[3 rows x 66 columns]\n",
      "---------------------------------------------------------------------- \n",
      "ap_2010 \n",
      "---------------------------------------------------------------------- \n",
      "\n",
      "\n",
      "      DBN                    SchoolName AP Test Takers  Total Exams Taken  \\\n",
      "0  01M448  UNIVERSITY NEIGHBORHOOD H.S.              39                49   \n",
      "1  01M450        EAST SIDE COMMUNITY HS              19                21   \n",
      "2  01M515           LOWER EASTSIDE PREP              24                26   \n",
      "\n",
      "  Number of Exams with scores 3 4 or 5  \n",
      "0                                   10  \n",
      "1                                    s  \n",
      "2                                   24  \n",
      "---------------------------------------------------------------------- \n",
      "math_result \n",
      "---------------------------------------------------------------------- \n",
      "\n",
      "\n",
      "        DBN Grade  Year      Category  Number Tested Mean Scale Score  \\\n",
      "111  01M034     8  2011  All Students             48              646   \n",
      "280  01M140     8  2011  All Students             61              665   \n",
      "346  01M184     8  2011  All Students             49              727   \n",
      "\n",
      "    Level 1 # Level 1 % Level 2 # Level 2 % Level 3 # Level 3 % Level 4 #  \\\n",
      "111        15     31.3%        22     45.8%        11     22.9%         0   \n",
      "280         1      1.6%        43     70.5%        17     27.9%         0   \n",
      "346         0        0%         0        0%         5     10.2%        44   \n",
      "\n",
      "    Level 4 % Level 3+4 # Level 3+4 %  \n",
      "111        0%          11       22.9%  \n",
      "280        0%          17       27.9%  \n",
      "346     89.8%          49        100%  \n",
      "---------------------------------------------------------------------- \n",
      "survey \n",
      "---------------------------------------------------------------------- \n",
      "\n",
      "\n",
      "      DBN  rr_s  rr_t  rr_p  N_s   N_t    N_p  saf_p_11  com_p_11  eng_p_11  \\\n",
      "0  01M015   NaN    88    60  NaN  22.0   90.0       8.5       7.6       7.5   \n",
      "1  01M019   NaN   100    60  NaN  34.0  161.0       8.4       7.6       7.6   \n",
      "2  01M020   NaN    88    73  NaN  42.0  367.0       8.9       8.3       8.3   \n",
      "\n",
      "      ...      eng_t_10  aca_t_11  saf_s_11  com_s_11  eng_s_11  aca_s_11  \\\n",
      "0     ...           NaN       7.9       NaN       NaN       NaN       NaN   \n",
      "1     ...           NaN       9.1       NaN       NaN       NaN       NaN   \n",
      "2     ...           NaN       7.5       NaN       NaN       NaN       NaN   \n",
      "\n",
      "   saf_tot_11  com_tot_11  eng_tot_11  aca_tot_11  \n",
      "0         8.0         7.7         7.5         7.9  \n",
      "1         8.5         8.1         8.2         8.4  \n",
      "2         8.2         7.3         7.5         8.0  \n",
      "\n",
      "[3 rows x 23 columns]\n",
      "---------------------------------------------------------------------- \n",
      "class_size \n",
      "---------------------------------------------------------------------- \n",
      "\n",
      "\n",
      "      DBN  CSD  NUMBER OF STUDENTS / SEATS FILLED  NUMBER OF SECTIONS  \\\n",
      "0  01M292    1                               88.0                 4.0   \n",
      "1  01M332    1                               46.0                 2.0   \n",
      "2  01M378    1                               33.0                 1.0   \n",
      "\n",
      "   AVERAGE CLASS SIZE  SIZE OF SMALLEST CLASS  SIZE OF LARGEST CLASS  \\\n",
      "0           22.564286                    18.5              26.571429   \n",
      "1           22.000000                    21.0              23.500000   \n",
      "2           33.000000                    33.0              33.000000   \n",
      "\n",
      "   SCHOOLWIDE PUPIL-TEACHER RATIO  \n",
      "0                             NaN  \n",
      "1                             NaN  \n",
      "2                             NaN  \n"
     ]
    }
   ],
   "source": [
    "for key , df in data.items():\n",
    "    print \"-\"*70,'\\n',key,'\\n',\"-\"*70,'\\n\\n'\n",
    "    print df.head(3)"
   ]
  },
  {
   "cell_type": "markdown",
   "metadata": {},
   "source": [
    "## Combining the datasets:\n",
    "---------------------\n",
    "<font size=3>\n",
    "We have performed all the preliminaries... we can finally combine the datasets together using the DBN column.At the end, we’ll have a dataset with hundreds of columns, from each of the original datasets.<br><br>\n",
    "We will be joining the datasets using the **\"OUTER\" join** as some of the datasets are missing high schools that exist in the sat_results, so that we dont lose data.\n",
    "</font>\n",
    "\n",
    "We will now go through the following process:\n",
    "\n",
    "- Loop through each of the items in the data dictionary.\n",
    "- Print the number of non-unique DBNs in the item.\n",
    "- Decide on a join strategy – inner or outer.\n",
    "- Join the item to the DataFrame full using the column DBN.\n",
    "\n"
   ]
  },
  {
   "cell_type": "code",
   "execution_count": 28,
   "metadata": {
    "collapsed": true
   },
   "outputs": [],
   "source": [
    "# Separating keys and data:\n",
    "dataset_names = data.keys()\n",
    "data_flat = [data[key] for key in dataset_names]\n",
    "\n",
    "dataset_names[0] ,dataset_names[5] = dataset_names[5], dataset_names[0]\n",
    "data_flat[0] , data_flat[5] = data_flat[5] , data_flat[0]"
   ]
  },
  {
   "cell_type": "code",
   "execution_count": 29,
   "metadata": {},
   "outputs": [
    {
     "name": "stdout",
     "output_type": "stream",
     "text": [
      "\n",
      "non-unique DBN values:\n",
      "\n",
      "demographics\n",
      "0\n",
      "graduation\n",
      "0\n",
      "hs_directory\n",
      "0\n",
      "ap_2010\n",
      "1\n",
      "sat_results\n",
      "0\n",
      "survey\n",
      "0\n",
      "class_size\n",
      "0\n"
     ]
    },
    {
     "data": {
      "text/plain": [
       "(443, 179)"
      ]
     },
     "execution_count": 29,
     "metadata": {},
     "output_type": "execute_result"
    }
   ],
   "source": [
    "full = data_flat[0]\n",
    "print \"\\nnon-unique DBN values:\\n\"\n",
    "\n",
    "for i , df in enumerate(data_flat[1:]):\n",
    "    name = dataset_names[i+1]\n",
    "    \n",
    "    print name\n",
    "    print (len(df['DBN'])-len(df['DBN'].unique()))\n",
    "    \n",
    "    \n",
    "    join = \"inner\"    \n",
    "    if name in [\"sat_results\", \"ap_2010\", \"graduation\"]:\n",
    "        join = \"outer\"\n",
    "    if name not in [\"math_result\"]:\n",
    "        full = full.merge(df, on=\"DBN\", how=join)\n",
    "    \n",
    "full.shape"
   ]
  },
  {
   "cell_type": "markdown",
   "metadata": {},
   "source": [
    "---\n",
    "<font size =3 >\n",
    "Now we may want to correlate the Advanced Placement exam results with SAT scores, but we’ll need to first convert those columns to numbers, then fill in any missing values:\n",
    "</font>\n",
    "\n",
    "---"
   ]
  },
  {
   "cell_type": "code",
   "execution_count": 30,
   "metadata": {},
   "outputs": [
    {
     "name": "stderr",
     "output_type": "stream",
     "text": [
      "/home/harsh/anaconda2/lib/python2.7/site-packages/ipykernel_launcher.py:4: FutureWarning: convert_objects is deprecated.  Use the data-type specific converters pd.to_datetime, pd.to_timedelta and pd.to_numeric.\n",
      "  after removing the cwd from sys.path.\n"
     ]
    }
   ],
   "source": [
    "cols = ['AP Test Takers ', 'Total Exams Taken', 'Number of Exams with scores 3 4 or 5']\n",
    "\n",
    "for col in cols:\n",
    "    full[col] = full[col].convert_objects(convert_numeric=True)\n",
    "\n",
    "full[cols] = full[cols].fillna(value=0)"
   ]
  },
  {
   "cell_type": "markdown",
   "metadata": {},
   "source": [
    "---\n",
    "<font size=3>\n",
    "we’ll now calculate a school_dist column that indicates the school district of the school. This will enable us to match up school districts and plot out district-level statistics using the district maps.\n",
    "</font>"
   ]
  },
  {
   "cell_type": "code",
   "execution_count": 71,
   "metadata": {
    "collapsed": true
   },
   "outputs": [],
   "source": [
    "full['school_dist'] = full[\"DBN\"].apply(lambda x: x[:2])"
   ]
  },
  {
   "cell_type": "markdown",
   "metadata": {},
   "source": [
    "---\n",
    "<font size =3>\n",
    "Finally we will now fill in all the missing values in each column od the dataset with mean of each column.\n",
    "</font>"
   ]
  },
  {
   "cell_type": "code",
   "execution_count": 32,
   "metadata": {
    "collapsed": true
   },
   "outputs": [],
   "source": [
    "full = full.fillna(full.mean())"
   ]
  },
  {
   "cell_type": "markdown",
   "metadata": {},
   "source": [
    "## Computing correlations:\n",
    "---\n",
    "<font size=3>\n",
    "This step will tell us which columns are closely related to the column we’re interested in(i.e.\"SAT SCORE\"). The closer to 0 the correlation, the weaker the connection. The closer to 1, the stronger the positive correlation, and the closer to -1, the stronger the negative correlation:\n",
    "\n",
    "</font>"
   ]
  },
  {
   "cell_type": "code",
   "execution_count": 33,
   "metadata": {},
   "outputs": [
    {
     "data": {
      "text/plain": [
       "sat_score                               1.000000\n",
       "SAT Writing Avg. Score                  0.981704\n",
       "SAT Critical Reading Avg. Score         0.976825\n",
       "SAT Math Avg. Score                     0.956405\n",
       "AP Test Takers                          0.572332\n",
       "Total Exams Taken                       0.561403\n",
       "Number of Exams with scores 3 4 or 5    0.560564\n",
       "N_p                                     0.432785\n",
       "N_s                                     0.428947\n",
       "total_students                          0.393918\n",
       "NUMBER OF STUDENTS / SEATS FILLED       0.387976\n",
       "AVERAGE CLASS SIZE                      0.363332\n",
       "NUMBER OF SECTIONS                      0.350881\n",
       "Total Cohort                            0.315132\n",
       "N_t                                     0.300124\n",
       "SIZE OF LARGEST CLASS                   0.296141\n",
       "saf_t_11                                0.293385\n",
       "aca_s_11                                0.277466\n",
       "saf_tot_11                              0.274777\n",
       "saf_s_11                                0.270590\n",
       "rr_s                                    0.269682\n",
       "SIZE OF SMALLEST CLASS                  0.256630\n",
       "asian_num                               0.198293\n",
       "white_num                               0.187720\n",
       "white_per                               0.179819\n",
       "female_num                              0.178575\n",
       "aca_tot_11                              0.166341\n",
       "eng_s_11                                0.164278\n",
       "asian_per                               0.157641\n",
       "com_s_11                                0.147263\n",
       "                                          ...   \n",
       "Census Tract                            0.052301\n",
       "CSD                                     0.049920\n",
       "BBL                                     0.048469\n",
       "aca_p_11                                0.026575\n",
       "rr_t                                    0.022299\n",
       "black_num                               0.019280\n",
       "eng_p_11                                0.016473\n",
       "grade_span_max                          0.006572\n",
       "grade_span_min                         -0.006927\n",
       "Community Board                        -0.048595\n",
       "hispanic_num                           -0.051086\n",
       "postcode                               -0.060342\n",
       "male_per                               -0.062368\n",
       "Council District                       -0.064944\n",
       "black_per                              -0.077019\n",
       "sped_num                               -0.087882\n",
       "hispanic_per                           -0.096252\n",
       "com_p_11                               -0.099042\n",
       "lat                                    -0.118574\n",
       "lon                                    -0.128251\n",
       "ell_num                                -0.138388\n",
       "ell_percent                            -0.154270\n",
       "sped_percent                           -0.181510\n",
       "frl_percent                            -0.196687\n",
       "Year                                         NaN\n",
       "schoolyear                                   NaN\n",
       "expgrade_span_min                            NaN\n",
       "expgrade_span_max                            NaN\n",
       "eng_t_10                                     NaN\n",
       "SCHOOLWIDE PUPIL-TEACHER RATIO               NaN\n",
       "Name: sat_score, Length: 72, dtype: float64"
      ]
     },
     "execution_count": 33,
     "metadata": {},
     "output_type": "execute_result"
    }
   ],
   "source": [
    "#corr = full.corr()['sat_score']\n",
    "#corr.sort_values(ascending=False)\n",
    "\n",
    "full.corr()['sat_score'].sort_values(ascending=False)"
   ]
  },
  {
   "cell_type": "markdown",
   "metadata": {},
   "source": [
    "---\n",
    "# Heat map on a map:\n",
    "---\n",
    "<font size=3>\n",
    "Lets wrap up this data cleaning project with creation of an interactive map... zoom in to get more accurate location plots\n",
    "</font>"
   ]
  },
  {
   "cell_type": "code",
   "execution_count": 35,
   "metadata": {},
   "outputs": [],
   "source": [
    "import folium\n",
    "from folium import plugins"
   ]
  },
  {
   "cell_type": "code",
   "execution_count": 49,
   "metadata": {
    "scrolled": true
   },
   "outputs": [
    {
     "name": "stderr",
     "output_type": "stream",
     "text": [
      "/home/harsh/anaconda2/lib/python2.7/site-packages/ipykernel_launcher.py:2: FutureWarning: Method `add_children` is deprecated. Please use `add_child` instead.\n",
      "  \n"
     ]
    },
    {
     "data": {
      "text/html": [
       "<div style=\"width:100%;\"><div style=\"position:relative;width:100%;height:0;padding-bottom:60%;\"><iframe src=\"data:text/html;charset=utf-8;base64,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\" style=\"position:absolute;width:100%;height:100%;left:0;top:0;border:none !important;\" allowfullscreen webkitallowfullscreen mozallowfullscreen></iframe></div></div>"
      ],
      "text/plain": [
       "<folium.folium.Map at 0x7fe7daa15410>"
      ]
     },
     "execution_count": 49,
     "metadata": {},
     "output_type": "execute_result"
    }
   ],
   "source": [
    "schools_heatmap = folium.Map(location=[full['lat'].mean(), full['lon'].mean()], zoom_start=10)\n",
    "schools_heatmap.add_children(plugins.HeatMap([[row[\"lat\"], row[\"lon\"]] for name, row in full.iterrows()]))\n",
    "schools_heatmap.save(\"heatmap.html\")\n",
    "schools_heatmap"
   ]
  },
  {
   "cell_type": "markdown",
   "metadata": {},
   "source": [
    "# End Notes on Data Cleaning project:\n",
    "---\n",
    "**This notebook was intended to display these skills:**\n",
    "- Acquire data for analysis.\n",
    "- Combining different datasets for a more in depth analysis.\n",
    "- Data cleaning to create a tidy data for analysis by anyone.\n",
    "- Depending on data at hand, possibilities of analysing and presenting in different formats ( in this case using lattitude and longitude from a random data and using it at our advantage to create a map representation)."
   ]
  }
 ],
 "metadata": {
  "kernelspec": {
   "display_name": "Python 2",
   "language": "python",
   "name": "python2"
  },
  "language_info": {
   "codemirror_mode": {
    "name": "ipython",
    "version": 2
   },
   "file_extension": ".py",
   "mimetype": "text/x-python",
   "name": "python",
   "nbconvert_exporter": "python",
   "pygments_lexer": "ipython2",
   "version": "2.7.13"
  }
 },
 "nbformat": 4,
 "nbformat_minor": 2
}
