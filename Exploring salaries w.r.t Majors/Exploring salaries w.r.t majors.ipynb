{
 "cells": [
  {
   "cell_type": "code",
   "execution_count": 1,
   "metadata": {
    "collapsed": true
   },
   "outputs": [],
   "source": [
    "%matplotlib inline"
   ]
  },
  {
   "cell_type": "code",
   "execution_count": 2,
   "metadata": {},
   "outputs": [
    {
     "name": "stderr",
     "output_type": "stream",
     "text": [
      "/home/harsh/anaconda2/lib/python2.7/site-packages/numexpr/cpuinfo.py:42: UserWarning: [Errno 2] No such file or directory\n",
      "  warnings.warn(str(e), UserWarning, stacklevel=stacklevel)\n"
     ]
    }
   ],
   "source": [
    "import matplotlib.pyplot as plt \n",
    "import seaborn as sns\n",
    "import numpy as np\n",
    "import pandas as pd"
   ]
  },
  {
   "cell_type": "code",
   "execution_count": 3,
   "metadata": {
    "collapsed": true
   },
   "outputs": [],
   "source": [
    "degrees_that_pay_back = pd.read_csv(\"degrees-that-pay-back.csv\")\n",
    "salaries_by_college_type = pd.read_csv(\"salaries-by-college-type.csv\")\n",
    "salaries_by_region = pd.read_csv(\"salaries-by-region.csv\")"
   ]
  },
  {
   "cell_type": "markdown",
   "metadata": {},
   "source": [
    "### Lets get familiar with the data first:"
   ]
  },
  {
   "cell_type": "code",
   "execution_count": 4,
   "metadata": {},
   "outputs": [
    {
     "data": {
      "text/html": [
       "<div>\n",
       "<style>\n",
       "    .dataframe thead tr:only-child th {\n",
       "        text-align: right;\n",
       "    }\n",
       "\n",
       "    .dataframe thead th {\n",
       "        text-align: left;\n",
       "    }\n",
       "\n",
       "    .dataframe tbody tr th {\n",
       "        vertical-align: top;\n",
       "    }\n",
       "</style>\n",
       "<table border=\"1\" class=\"dataframe\">\n",
       "  <thead>\n",
       "    <tr style=\"text-align: right;\">\n",
       "      <th></th>\n",
       "      <th>Undergraduate Major</th>\n",
       "      <th>Starting Median Salary</th>\n",
       "      <th>Mid-Career Median Salary</th>\n",
       "      <th>Percent change from Starting to Mid-Career Salary</th>\n",
       "      <th>Mid-Career 10th Percentile Salary</th>\n",
       "      <th>Mid-Career 25th Percentile Salary</th>\n",
       "      <th>Mid-Career 75th Percentile Salary</th>\n",
       "      <th>Mid-Career 90th Percentile Salary</th>\n",
       "    </tr>\n",
       "  </thead>\n",
       "  <tbody>\n",
       "    <tr>\n",
       "      <th>0</th>\n",
       "      <td>Accounting</td>\n",
       "      <td>$46,000.00</td>\n",
       "      <td>$77,100.00</td>\n",
       "      <td>67.6</td>\n",
       "      <td>$42,200.00</td>\n",
       "      <td>$56,100.00</td>\n",
       "      <td>$108,000.00</td>\n",
       "      <td>$152,000.00</td>\n",
       "    </tr>\n",
       "    <tr>\n",
       "      <th>1</th>\n",
       "      <td>Aerospace Engineering</td>\n",
       "      <td>$57,700.00</td>\n",
       "      <td>$101,000.00</td>\n",
       "      <td>75.0</td>\n",
       "      <td>$64,300.00</td>\n",
       "      <td>$82,100.00</td>\n",
       "      <td>$127,000.00</td>\n",
       "      <td>$161,000.00</td>\n",
       "    </tr>\n",
       "    <tr>\n",
       "      <th>2</th>\n",
       "      <td>Agriculture</td>\n",
       "      <td>$42,600.00</td>\n",
       "      <td>$71,900.00</td>\n",
       "      <td>68.8</td>\n",
       "      <td>$36,300.00</td>\n",
       "      <td>$52,100.00</td>\n",
       "      <td>$96,300.00</td>\n",
       "      <td>$150,000.00</td>\n",
       "    </tr>\n",
       "    <tr>\n",
       "      <th>3</th>\n",
       "      <td>Anthropology</td>\n",
       "      <td>$36,800.00</td>\n",
       "      <td>$61,500.00</td>\n",
       "      <td>67.1</td>\n",
       "      <td>$33,800.00</td>\n",
       "      <td>$45,500.00</td>\n",
       "      <td>$89,300.00</td>\n",
       "      <td>$138,000.00</td>\n",
       "    </tr>\n",
       "    <tr>\n",
       "      <th>4</th>\n",
       "      <td>Architecture</td>\n",
       "      <td>$41,600.00</td>\n",
       "      <td>$76,800.00</td>\n",
       "      <td>84.6</td>\n",
       "      <td>$50,600.00</td>\n",
       "      <td>$62,200.00</td>\n",
       "      <td>$97,000.00</td>\n",
       "      <td>$136,000.00</td>\n",
       "    </tr>\n",
       "  </tbody>\n",
       "</table>\n",
       "</div>"
      ],
      "text/plain": [
       "     Undergraduate Major Starting Median Salary Mid-Career Median Salary  \\\n",
       "0             Accounting             $46,000.00               $77,100.00   \n",
       "1  Aerospace Engineering             $57,700.00              $101,000.00   \n",
       "2            Agriculture             $42,600.00               $71,900.00   \n",
       "3           Anthropology             $36,800.00               $61,500.00   \n",
       "4           Architecture             $41,600.00               $76,800.00   \n",
       "\n",
       "   Percent change from Starting to Mid-Career Salary  \\\n",
       "0                                               67.6   \n",
       "1                                               75.0   \n",
       "2                                               68.8   \n",
       "3                                               67.1   \n",
       "4                                               84.6   \n",
       "\n",
       "  Mid-Career 10th Percentile Salary Mid-Career 25th Percentile Salary  \\\n",
       "0                        $42,200.00                        $56,100.00   \n",
       "1                        $64,300.00                        $82,100.00   \n",
       "2                        $36,300.00                        $52,100.00   \n",
       "3                        $33,800.00                        $45,500.00   \n",
       "4                        $50,600.00                        $62,200.00   \n",
       "\n",
       "  Mid-Career 75th Percentile Salary Mid-Career 90th Percentile Salary  \n",
       "0                       $108,000.00                       $152,000.00  \n",
       "1                       $127,000.00                       $161,000.00  \n",
       "2                        $96,300.00                       $150,000.00  \n",
       "3                        $89,300.00                       $138,000.00  \n",
       "4                        $97,000.00                       $136,000.00  "
      ]
     },
     "execution_count": 4,
     "metadata": {},
     "output_type": "execute_result"
    }
   ],
   "source": [
    "degrees_that_pay_back.head()"
   ]
  },
  {
   "cell_type": "markdown",
   "metadata": {},
   "source": [
    "### Observations:\n",
    "<p>\n",
    "<font size =3 >\n",
    "**1. **We see that the entries for all the salary columns have dollar sign in them which raises a suspision that they have to be dealt with first because most probably they are strings.<br><br>\n",
    "**2. **Percentage change column lies in between other columns, and mid-career median salary should be properly alligned, i.e. columns need some reordering for the ease of analysis.<br><br>\n",
    "**3. **The column names are very long so we need to rename them.\n",
    "</font></p>"
   ]
  },
  {
   "cell_type": "markdown",
   "metadata": {},
   "source": [
    "## Formulating questions :\n",
    "- which UG_major's have high starting salary?\n",
    "- what is the most common percent change in salaries ?\n",
    "\n"
   ]
  },
  {
   "cell_type": "markdown",
   "metadata": {},
   "source": [
    "# 1.Data Cleaning"
   ]
  },
  {
   "cell_type": "markdown",
   "metadata": {},
   "source": [
    "### a)Reordering and manupulating names of the columns :"
   ]
  },
  {
   "cell_type": "code",
   "execution_count": 5,
   "metadata": {},
   "outputs": [
    {
     "data": {
      "text/plain": [
       "['Undergraduate Major',\n",
       " 'Percent change from Starting to Mid-Career Salary',\n",
       " 'Starting Median Salary',\n",
       " 'Mid-Career 10th Percentile Salary',\n",
       " 'Mid-Career 25th Percentile Salary',\n",
       " 'Mid-Career Median Salary',\n",
       " 'Mid-Career 75th Percentile Salary',\n",
       " 'Mid-Career 90th Percentile Salary']"
      ]
     },
     "execution_count": 5,
     "metadata": {},
     "output_type": "execute_result"
    }
   ],
   "source": [
    "cols = list(degrees_that_pay_back)\n",
    "\n",
    "cols.insert(1,cols.pop(cols.index('Percent change from Starting to Mid-Career Salary')))\n",
    "cols.insert(5,cols.pop(cols.index('Mid-Career Median Salary')))\n",
    "\n",
    "cols"
   ]
  },
  {
   "cell_type": "code",
   "execution_count": 6,
   "metadata": {},
   "outputs": [
    {
     "data": {
      "text/html": [
       "<div>\n",
       "<style>\n",
       "    .dataframe thead tr:only-child th {\n",
       "        text-align: right;\n",
       "    }\n",
       "\n",
       "    .dataframe thead th {\n",
       "        text-align: left;\n",
       "    }\n",
       "\n",
       "    .dataframe tbody tr th {\n",
       "        vertical-align: top;\n",
       "    }\n",
       "</style>\n",
       "<table border=\"1\" class=\"dataframe\">\n",
       "  <thead>\n",
       "    <tr style=\"text-align: right;\">\n",
       "      <th></th>\n",
       "      <th>Major</th>\n",
       "      <th>Percentchange_start_to_mid</th>\n",
       "      <th>Start</th>\n",
       "      <th>Mid_10th</th>\n",
       "      <th>Mid_25th</th>\n",
       "      <th>Mid_50th</th>\n",
       "      <th>Mid_75th</th>\n",
       "      <th>Mid_90th</th>\n",
       "    </tr>\n",
       "  </thead>\n",
       "  <tbody>\n",
       "    <tr>\n",
       "      <th>0</th>\n",
       "      <td>Accounting</td>\n",
       "      <td>67.6</td>\n",
       "      <td>$46,000.00</td>\n",
       "      <td>$42,200.00</td>\n",
       "      <td>$56,100.00</td>\n",
       "      <td>$77,100.00</td>\n",
       "      <td>$108,000.00</td>\n",
       "      <td>$152,000.00</td>\n",
       "    </tr>\n",
       "    <tr>\n",
       "      <th>1</th>\n",
       "      <td>Aerospace Engineering</td>\n",
       "      <td>75.0</td>\n",
       "      <td>$57,700.00</td>\n",
       "      <td>$64,300.00</td>\n",
       "      <td>$82,100.00</td>\n",
       "      <td>$101,000.00</td>\n",
       "      <td>$127,000.00</td>\n",
       "      <td>$161,000.00</td>\n",
       "    </tr>\n",
       "    <tr>\n",
       "      <th>2</th>\n",
       "      <td>Agriculture</td>\n",
       "      <td>68.8</td>\n",
       "      <td>$42,600.00</td>\n",
       "      <td>$36,300.00</td>\n",
       "      <td>$52,100.00</td>\n",
       "      <td>$71,900.00</td>\n",
       "      <td>$96,300.00</td>\n",
       "      <td>$150,000.00</td>\n",
       "    </tr>\n",
       "  </tbody>\n",
       "</table>\n",
       "</div>"
      ],
      "text/plain": [
       "                   Major  Percentchange_start_to_mid       Start    Mid_10th  \\\n",
       "0             Accounting                        67.6  $46,000.00  $42,200.00   \n",
       "1  Aerospace Engineering                        75.0  $57,700.00  $64,300.00   \n",
       "2            Agriculture                        68.8  $42,600.00  $36,300.00   \n",
       "\n",
       "     Mid_25th     Mid_50th     Mid_75th     Mid_90th  \n",
       "0  $56,100.00   $77,100.00  $108,000.00  $152,000.00  \n",
       "1  $82,100.00  $101,000.00  $127,000.00  $161,000.00  \n",
       "2  $52,100.00   $71,900.00   $96,300.00  $150,000.00  "
      ]
     },
     "execution_count": 6,
     "metadata": {},
     "output_type": "execute_result"
    }
   ],
   "source": [
    "degrees_that_pay_back=degrees_that_pay_back.loc[:,cols]\n",
    "degrees_that_pay_back.columns = cols=[\"Major\",'Percentchange_start_to_mid','Start','Mid_10th','Mid_25th','Mid_50th','Mid_75th','Mid_90th']\n",
    "degrees_that_pay_back.head(3)"
   ]
  },
  {
   "cell_type": "code",
   "execution_count": 7,
   "metadata": {
    "collapsed": true
   },
   "outputs": [],
   "source": [
    "df = degrees_that_pay_back\n"
   ]
  },
  {
   "cell_type": "markdown",
   "metadata": {},
   "source": [
    "<font size =3>**Okay.. so now that columns have been reorderd and renamed, lets take a look at the data info**</font>"
   ]
  },
  {
   "cell_type": "code",
   "execution_count": 8,
   "metadata": {},
   "outputs": [
    {
     "name": "stdout",
     "output_type": "stream",
     "text": [
      "<class 'pandas.core.frame.DataFrame'>\n",
      "RangeIndex: 50 entries, 0 to 49\n",
      "Data columns (total 8 columns):\n",
      "Major                         50 non-null object\n",
      "Percentchange_start_to_mid    50 non-null float64\n",
      "Start                         50 non-null object\n",
      "Mid_10th                      50 non-null object\n",
      "Mid_25th                      50 non-null object\n",
      "Mid_50th                      50 non-null object\n",
      "Mid_75th                      50 non-null object\n",
      "Mid_90th                      50 non-null object\n",
      "dtypes: float64(1), object(7)\n",
      "memory usage: 3.2+ KB\n"
     ]
    }
   ],
   "source": [
    "df.info()"
   ]
  },
  {
   "cell_type": "code",
   "execution_count": 9,
   "metadata": {},
   "outputs": [
    {
     "data": {
      "text/plain": [
       "str"
      ]
     },
     "execution_count": 9,
     "metadata": {},
     "output_type": "execute_result"
    }
   ],
   "source": [
    "type(df.Start[0])"
   ]
  },
  {
   "cell_type": "markdown",
   "metadata": {},
   "source": [
    "<br>\n",
    "<font size =4 >\n",
    "We can see that only one coloumn is in float format and all the others are string and as we were lucky enough to have no missing values we can move on to the next step\n",
    "</font>"
   ]
  },
  {
   "cell_type": "markdown",
   "metadata": {},
   "source": [
    "### b) Convert all string values to float for all columns:"
   ]
  },
  {
   "cell_type": "code",
   "execution_count": 10,
   "metadata": {
    "collapsed": true
   },
   "outputs": [],
   "source": [
    "def convert(col):\n",
    "#for col in columns:\n",
    "    df[col] = df[col].map(lambda x : x.split('$')[1]).map(lambda x: float(x.split(',')[0]+x.split(',')[1]))\n"
   ]
  },
  {
   "cell_type": "code",
   "execution_count": 11,
   "metadata": {
    "collapsed": true
   },
   "outputs": [],
   "source": [
    "for col in df.columns[2:]:\n",
    "    convert(col)"
   ]
  },
  {
   "cell_type": "code",
   "execution_count": 12,
   "metadata": {},
   "outputs": [
    {
     "data": {
      "text/html": [
       "<div>\n",
       "<style>\n",
       "    .dataframe thead tr:only-child th {\n",
       "        text-align: right;\n",
       "    }\n",
       "\n",
       "    .dataframe thead th {\n",
       "        text-align: left;\n",
       "    }\n",
       "\n",
       "    .dataframe tbody tr th {\n",
       "        vertical-align: top;\n",
       "    }\n",
       "</style>\n",
       "<table border=\"1\" class=\"dataframe\">\n",
       "  <thead>\n",
       "    <tr style=\"text-align: right;\">\n",
       "      <th></th>\n",
       "      <th>Major</th>\n",
       "      <th>Percentchange_start_to_mid</th>\n",
       "      <th>Start</th>\n",
       "      <th>Mid_10th</th>\n",
       "      <th>Mid_25th</th>\n",
       "      <th>Mid_50th</th>\n",
       "      <th>Mid_75th</th>\n",
       "      <th>Mid_90th</th>\n",
       "    </tr>\n",
       "  </thead>\n",
       "  <tbody>\n",
       "    <tr>\n",
       "      <th>0</th>\n",
       "      <td>Accounting</td>\n",
       "      <td>67.6</td>\n",
       "      <td>46000.0</td>\n",
       "      <td>42200.0</td>\n",
       "      <td>56100.0</td>\n",
       "      <td>77100.0</td>\n",
       "      <td>108000.0</td>\n",
       "      <td>152000.0</td>\n",
       "    </tr>\n",
       "    <tr>\n",
       "      <th>1</th>\n",
       "      <td>Aerospace Engineering</td>\n",
       "      <td>75.0</td>\n",
       "      <td>57700.0</td>\n",
       "      <td>64300.0</td>\n",
       "      <td>82100.0</td>\n",
       "      <td>101000.0</td>\n",
       "      <td>127000.0</td>\n",
       "      <td>161000.0</td>\n",
       "    </tr>\n",
       "    <tr>\n",
       "      <th>2</th>\n",
       "      <td>Agriculture</td>\n",
       "      <td>68.8</td>\n",
       "      <td>42600.0</td>\n",
       "      <td>36300.0</td>\n",
       "      <td>52100.0</td>\n",
       "      <td>71900.0</td>\n",
       "      <td>96300.0</td>\n",
       "      <td>150000.0</td>\n",
       "    </tr>\n",
       "  </tbody>\n",
       "</table>\n",
       "</div>"
      ],
      "text/plain": [
       "                   Major  Percentchange_start_to_mid    Start  Mid_10th  \\\n",
       "0             Accounting                        67.6  46000.0   42200.0   \n",
       "1  Aerospace Engineering                        75.0  57700.0   64300.0   \n",
       "2            Agriculture                        68.8  42600.0   36300.0   \n",
       "\n",
       "   Mid_25th  Mid_50th  Mid_75th  Mid_90th  \n",
       "0   56100.0   77100.0  108000.0  152000.0  \n",
       "1   82100.0  101000.0  127000.0  161000.0  \n",
       "2   52100.0   71900.0   96300.0  150000.0  "
      ]
     },
     "execution_count": 12,
     "metadata": {},
     "output_type": "execute_result"
    }
   ],
   "source": [
    "df.head(3)"
   ]
  },
  {
   "cell_type": "markdown",
   "metadata": {},
   "source": [
    "<br>\n",
    "<font size =3>\n",
    "We have successfully converted and cleansed the data. Finally time for real analytical work\n",
    "</font>"
   ]
  },
  {
   "cell_type": "markdown",
   "metadata": {},
   "source": [
    "# 2. Data Analysis"
   ]
  },
  {
   "cell_type": "markdown",
   "metadata": {},
   "source": [
    "### Lets take a look at statistics"
   ]
  },
  {
   "cell_type": "code",
   "execution_count": 13,
   "metadata": {},
   "outputs": [
    {
     "data": {
      "text/html": [
       "<div>\n",
       "<style>\n",
       "    .dataframe thead tr:only-child th {\n",
       "        text-align: right;\n",
       "    }\n",
       "\n",
       "    .dataframe thead th {\n",
       "        text-align: left;\n",
       "    }\n",
       "\n",
       "    .dataframe tbody tr th {\n",
       "        vertical-align: top;\n",
       "    }\n",
       "</style>\n",
       "<table border=\"1\" class=\"dataframe\">\n",
       "  <thead>\n",
       "    <tr style=\"text-align: right;\">\n",
       "      <th></th>\n",
       "      <th>Percentchange_start_to_mid</th>\n",
       "      <th>Start</th>\n",
       "      <th>Mid_10th</th>\n",
       "      <th>Mid_25th</th>\n",
       "      <th>Mid_50th</th>\n",
       "      <th>Mid_75th</th>\n",
       "      <th>Mid_90th</th>\n",
       "    </tr>\n",
       "  </thead>\n",
       "  <tbody>\n",
       "    <tr>\n",
       "      <th>count</th>\n",
       "      <td>50.000000</td>\n",
       "      <td>50.000000</td>\n",
       "      <td>50.000000</td>\n",
       "      <td>50.000000</td>\n",
       "      <td>50.00000</td>\n",
       "      <td>50.000000</td>\n",
       "      <td>50.000000</td>\n",
       "    </tr>\n",
       "    <tr>\n",
       "      <th>mean</th>\n",
       "      <td>69.274000</td>\n",
       "      <td>44310.000000</td>\n",
       "      <td>43408.000000</td>\n",
       "      <td>55988.000000</td>\n",
       "      <td>74786.00000</td>\n",
       "      <td>102138.000000</td>\n",
       "      <td>142766.000000</td>\n",
       "    </tr>\n",
       "    <tr>\n",
       "      <th>std</th>\n",
       "      <td>17.909908</td>\n",
       "      <td>9360.866217</td>\n",
       "      <td>12000.779567</td>\n",
       "      <td>13936.951911</td>\n",
       "      <td>16088.40386</td>\n",
       "      <td>20636.789914</td>\n",
       "      <td>27851.249267</td>\n",
       "    </tr>\n",
       "    <tr>\n",
       "      <th>min</th>\n",
       "      <td>23.400000</td>\n",
       "      <td>34000.000000</td>\n",
       "      <td>26700.000000</td>\n",
       "      <td>36500.000000</td>\n",
       "      <td>52000.00000</td>\n",
       "      <td>70500.000000</td>\n",
       "      <td>96400.000000</td>\n",
       "    </tr>\n",
       "    <tr>\n",
       "      <th>25%</th>\n",
       "      <td>59.125000</td>\n",
       "      <td>37050.000000</td>\n",
       "      <td>34825.000000</td>\n",
       "      <td>44975.000000</td>\n",
       "      <td>60825.00000</td>\n",
       "      <td>83275.000000</td>\n",
       "      <td>124250.000000</td>\n",
       "    </tr>\n",
       "    <tr>\n",
       "      <th>50%</th>\n",
       "      <td>67.800000</td>\n",
       "      <td>40850.000000</td>\n",
       "      <td>39400.000000</td>\n",
       "      <td>52450.000000</td>\n",
       "      <td>72000.00000</td>\n",
       "      <td>99400.000000</td>\n",
       "      <td>145500.000000</td>\n",
       "    </tr>\n",
       "    <tr>\n",
       "      <th>75%</th>\n",
       "      <td>82.425000</td>\n",
       "      <td>49875.000000</td>\n",
       "      <td>49850.000000</td>\n",
       "      <td>63700.000000</td>\n",
       "      <td>88750.00000</td>\n",
       "      <td>118750.000000</td>\n",
       "      <td>161750.000000</td>\n",
       "    </tr>\n",
       "    <tr>\n",
       "      <th>max</th>\n",
       "      <td>103.500000</td>\n",
       "      <td>74300.000000</td>\n",
       "      <td>71900.000000</td>\n",
       "      <td>87300.000000</td>\n",
       "      <td>107000.00000</td>\n",
       "      <td>145000.000000</td>\n",
       "      <td>210000.000000</td>\n",
       "    </tr>\n",
       "  </tbody>\n",
       "</table>\n",
       "</div>"
      ],
      "text/plain": [
       "       Percentchange_start_to_mid         Start      Mid_10th      Mid_25th  \\\n",
       "count                   50.000000     50.000000     50.000000     50.000000   \n",
       "mean                    69.274000  44310.000000  43408.000000  55988.000000   \n",
       "std                     17.909908   9360.866217  12000.779567  13936.951911   \n",
       "min                     23.400000  34000.000000  26700.000000  36500.000000   \n",
       "25%                     59.125000  37050.000000  34825.000000  44975.000000   \n",
       "50%                     67.800000  40850.000000  39400.000000  52450.000000   \n",
       "75%                     82.425000  49875.000000  49850.000000  63700.000000   \n",
       "max                    103.500000  74300.000000  71900.000000  87300.000000   \n",
       "\n",
       "           Mid_50th       Mid_75th       Mid_90th  \n",
       "count      50.00000      50.000000      50.000000  \n",
       "mean    74786.00000  102138.000000  142766.000000  \n",
       "std     16088.40386   20636.789914   27851.249267  \n",
       "min     52000.00000   70500.000000   96400.000000  \n",
       "25%     60825.00000   83275.000000  124250.000000  \n",
       "50%     72000.00000   99400.000000  145500.000000  \n",
       "75%     88750.00000  118750.000000  161750.000000  \n",
       "max    107000.00000  145000.000000  210000.000000  "
      ]
     },
     "execution_count": 13,
     "metadata": {},
     "output_type": "execute_result"
    }
   ],
   "source": [
    "df.describe()"
   ]
  },
  {
   "cell_type": "markdown",
   "metadata": {},
   "source": [
    "<br><br>\n",
    "<font size =4>\n",
    "We can see that majority of the majors might have a starting salary in range of <u>44310</u> while depending on your performance starting salary might go upto <u>142766</u>(90th percentile)<br><br>\n",
    "Lets sort the columns acc to highest salary to get insight on major with highest starting salary \n",
    "</font>\n",
    "<br><br>"
   ]
  },
  {
   "cell_type": "code",
   "execution_count": 14,
   "metadata": {},
   "outputs": [
    {
     "data": {
      "text/html": [
       "<div>\n",
       "<style>\n",
       "    .dataframe thead tr:only-child th {\n",
       "        text-align: right;\n",
       "    }\n",
       "\n",
       "    .dataframe thead th {\n",
       "        text-align: left;\n",
       "    }\n",
       "\n",
       "    .dataframe tbody tr th {\n",
       "        vertical-align: top;\n",
       "    }\n",
       "</style>\n",
       "<table border=\"1\" class=\"dataframe\">\n",
       "  <thead>\n",
       "    <tr style=\"text-align: right;\">\n",
       "      <th></th>\n",
       "      <th>index</th>\n",
       "      <th>Major</th>\n",
       "      <th>Percentchange_start_to_mid</th>\n",
       "      <th>Start</th>\n",
       "      <th>Mid_10th</th>\n",
       "      <th>Mid_25th</th>\n",
       "      <th>Mid_50th</th>\n",
       "      <th>Mid_75th</th>\n",
       "      <th>Mid_90th</th>\n",
       "    </tr>\n",
       "  </thead>\n",
       "  <tbody>\n",
       "    <tr>\n",
       "      <th>0</th>\n",
       "      <td>43</td>\n",
       "      <td>Physician Assistant</td>\n",
       "      <td>23.4</td>\n",
       "      <td>74300.0</td>\n",
       "      <td>66400.0</td>\n",
       "      <td>75200.0</td>\n",
       "      <td>91700.0</td>\n",
       "      <td>108000.0</td>\n",
       "      <td>124000.0</td>\n",
       "    </tr>\n",
       "    <tr>\n",
       "      <th>1</th>\n",
       "      <td>8</td>\n",
       "      <td>Chemical Engineering</td>\n",
       "      <td>69.3</td>\n",
       "      <td>63200.0</td>\n",
       "      <td>71900.0</td>\n",
       "      <td>87300.0</td>\n",
       "      <td>107000.0</td>\n",
       "      <td>143000.0</td>\n",
       "      <td>194000.0</td>\n",
       "    </tr>\n",
       "    <tr>\n",
       "      <th>2</th>\n",
       "      <td>12</td>\n",
       "      <td>Computer Engineering</td>\n",
       "      <td>71.0</td>\n",
       "      <td>61400.0</td>\n",
       "      <td>66100.0</td>\n",
       "      <td>84100.0</td>\n",
       "      <td>105000.0</td>\n",
       "      <td>135000.0</td>\n",
       "      <td>162000.0</td>\n",
       "    </tr>\n",
       "    <tr>\n",
       "      <th>3</th>\n",
       "      <td>19</td>\n",
       "      <td>Electrical Engineering</td>\n",
       "      <td>69.1</td>\n",
       "      <td>60900.0</td>\n",
       "      <td>69300.0</td>\n",
       "      <td>83800.0</td>\n",
       "      <td>103000.0</td>\n",
       "      <td>130000.0</td>\n",
       "      <td>168000.0</td>\n",
       "    </tr>\n",
       "  </tbody>\n",
       "</table>\n",
       "</div>"
      ],
      "text/plain": [
       "   index                   Major  Percentchange_start_to_mid    Start  \\\n",
       "0     43     Physician Assistant                        23.4  74300.0   \n",
       "1      8    Chemical Engineering                        69.3  63200.0   \n",
       "2     12    Computer Engineering                        71.0  61400.0   \n",
       "3     19  Electrical Engineering                        69.1  60900.0   \n",
       "\n",
       "   Mid_10th  Mid_25th  Mid_50th  Mid_75th  Mid_90th  \n",
       "0   66400.0   75200.0   91700.0  108000.0  124000.0  \n",
       "1   71900.0   87300.0  107000.0  143000.0  194000.0  \n",
       "2   66100.0   84100.0  105000.0  135000.0  162000.0  \n",
       "3   69300.0   83800.0  103000.0  130000.0  168000.0  "
      ]
     },
     "execution_count": 14,
     "metadata": {},
     "output_type": "execute_result"
    }
   ],
   "source": [
    "df.sort_values(by=\"Start\",ascending=False,inplace=True)\n",
    "df.reset_index(inplace=True)\n",
    "df.head(4)"
   ]
  },
  {
   "cell_type": "markdown",
   "metadata": {},
   "source": [
    "<br><br>\n",
    "<font size =3>\n",
    "Physician Asistant has the highest starting salary, but in the top four results itself we can see that the mid career salary for top performers may vary significantly as can be seen in the second case i.e. Chemical Engineering steals the light from Physician Assisstant.\n",
    "<br>\n",
    "<br>\n",
    "From the statistics above we could also make conclusion that even if the start salary may be higher than the others,the salaries in **90th percentile** can be way higher and different from what was started, as the **max salary** in 90th percentile is **210000** which is way higher than what is seen for Physician Assisstant\n",
    "</font>\n",
    "<br>\n",
    "<br>"
   ]
  },
  {
   "cell_type": "markdown",
   "metadata": {},
   "source": [
    "# 3. Visualization"
   ]
  },
  {
   "cell_type": "markdown",
   "metadata": {},
   "source": [
    "<br>\n",
    "<font size = 4>\n",
    "Lets do some visualization on this data to see how much is the variance in salaries for all performers:\n",
    "</font>\n",
    "<br>\n",
    "<br>"
   ]
  },
  {
   "cell_type": "code",
   "execution_count": 15,
   "metadata": {},
   "outputs": [
    {
     "data": {
      "text/plain": [
       "<matplotlib.text.Text at 0x7f2a9ae59590>"
      ]
     },
     "execution_count": 15,
     "metadata": {},
     "output_type": "execute_result"
    },
    {
     "data": {
      "image/png": "[encoded data removed]",
      "text/plain": [
       "<matplotlib.figure.Figure at 0x7f2a9cbb5cd0>"
      ]
     },
     "metadata": {},
     "output_type": "display_data"
    }
   ],
   "source": [
    "f,ax = plt.subplots(figsize = (8,9))\n",
    "df['index'] =sorted(df['index'],reverse=True) \n",
    "ax1 = df.plot(kind=\"scatter\",x=\"Start\",y=\"index\",ax=ax,color='g',label=\"Start\")\n",
    "ax2 = df.plot(kind=\"scatter\",x=\"Mid_10th\",y=\"index\",ax=ax,color='c',label=\"Mid_10th\")\n",
    "ax3 = df.plot(kind=\"scatter\",x=\"Mid_25th\",y=\"index\",ax=ax,color='y',label=\"Mid_25th\")\n",
    "ax4 = df.plot(kind=\"scatter\",x=\"Mid_50th\",y=\"index\",ax=ax,color='b',label=\"Mid_50th\")\n",
    "ax5 = df.plot(kind=\"scatter\",x=\"Mid_75th\",y=\"index\",ax=ax,color='m',label=\"Mid_75th\")\n",
    "ax6 = df.plot(kind=\"scatter\",x=\"Mid_90th\",y=\"index\",ax=ax,color='r',label=\"Mid_90th\")\n",
    "\n",
    "ax.set_xlabel(\"Salary\")\n",
    "ax.set_ylabel(\"Majors\")"
   ]
  },
  {
   "cell_type": "markdown",
   "metadata": {},
   "source": [
    "### In this scatterplot we can clearly see how the distribution of salary varies and becomes dispersed w.r.t the percentile you are in and which major you pursue. \n",
    "<br>\n",
    "<font size =3>\n",
    "For a bit more of clear visualization lets plot a swarmplot for the same observation as scatterplot\n",
    "</font>\n",
    "<br><br>"
   ]
  },
  {
   "cell_type": "code",
   "execution_count": 16,
   "metadata": {
    "collapsed": true
   },
   "outputs": [],
   "source": [
    "df1 = df.drop([\"index\",\"Percentchange_start_to_mid\"],axis=1)\n"
   ]
  },
  {
   "cell_type": "code",
   "execution_count": 17,
   "metadata": {},
   "outputs": [
    {
     "data": {
      "text/html": [
       "<div>\n",
       "<style>\n",
       "    .dataframe thead tr:only-child th {\n",
       "        text-align: right;\n",
       "    }\n",
       "\n",
       "    .dataframe thead th {\n",
       "        text-align: left;\n",
       "    }\n",
       "\n",
       "    .dataframe tbody tr th {\n",
       "        vertical-align: top;\n",
       "    }\n",
       "</style>\n",
       "<table border=\"1\" class=\"dataframe\">\n",
       "  <thead>\n",
       "    <tr style=\"text-align: right;\">\n",
       "      <th></th>\n",
       "      <th>Major</th>\n",
       "      <th>Category</th>\n",
       "      <th>Salary</th>\n",
       "    </tr>\n",
       "  </thead>\n",
       "  <tbody>\n",
       "    <tr>\n",
       "      <th>0</th>\n",
       "      <td>Physician Assistant</td>\n",
       "      <td>Start</td>\n",
       "      <td>74300.0</td>\n",
       "    </tr>\n",
       "    <tr>\n",
       "      <th>1</th>\n",
       "      <td>Chemical Engineering</td>\n",
       "      <td>Start</td>\n",
       "      <td>63200.0</td>\n",
       "    </tr>\n",
       "    <tr>\n",
       "      <th>2</th>\n",
       "      <td>Computer Engineering</td>\n",
       "      <td>Start</td>\n",
       "      <td>61400.0</td>\n",
       "    </tr>\n",
       "    <tr>\n",
       "      <th>3</th>\n",
       "      <td>Electrical Engineering</td>\n",
       "      <td>Start</td>\n",
       "      <td>60900.0</td>\n",
       "    </tr>\n",
       "    <tr>\n",
       "      <th>4</th>\n",
       "      <td>Mechanical Engineering</td>\n",
       "      <td>Start</td>\n",
       "      <td>57900.0</td>\n",
       "    </tr>\n",
       "  </tbody>\n",
       "</table>\n",
       "</div>"
      ],
      "text/plain": [
       "                    Major Category   Salary\n",
       "0     Physician Assistant    Start  74300.0\n",
       "1    Chemical Engineering    Start  63200.0\n",
       "2    Computer Engineering    Start  61400.0\n",
       "3  Electrical Engineering    Start  60900.0\n",
       "4  Mechanical Engineering    Start  57900.0"
      ]
     },
     "execution_count": 17,
     "metadata": {},
     "output_type": "execute_result"
    }
   ],
   "source": [
    "df1 = df1.melt(id_vars=\"Major\",value_vars=['Start','Mid_10th','Mid_25th','Mid_50th','Mid_75th','Mid_90th'],var_name=\"Category\",value_name=\"Salary\")\n",
    "df1.head()"
   ]
  },
  {
   "cell_type": "code",
   "execution_count": 19,
   "metadata": {},
   "outputs": [
    {
     "data": {
      "image/png": "[encoded data removed]",
      "text/plain": [
       "<matplotlib.figure.Figure at 0x7f2a9cba90d0>"
      ]
     },
     "metadata": {},
     "output_type": "display_data"
    }
   ],
   "source": [
    "f,ax = plt.subplots(figsize=(8,7))\n",
    "sns.swarmplot( data=df1, y=\"Category\", x=\"Salary\", hue=\"Major\",orient=\"h\",ax=ax)\n",
    "ax.legend_.remove()"
   ]
  },
  {
   "cell_type": "markdown",
   "metadata": {},
   "source": [
    "### One surprising thing which we observe over here is that the salaries for Start is higher than that of the 10th percentile, which means there was a salary drop from the start to mid career for 10th percentile performers.\n",
    "\n",
    "### We also observe how the distribution gets thinner but higher with the percentile, which we also observed in scatterplot."
   ]
  },
  {
   "cell_type": "markdown",
   "metadata": {},
   "source": [
    "<font size = 3 >\n",
    "Lets now try to answer the question what is the most common percentage salary change from start to mid-career.\n",
    "</font><br><br>"
   ]
  },
  {
   "cell_type": "code",
   "execution_count": 34,
   "metadata": {},
   "outputs": [
    {
     "data": {
      "text/plain": [
       "<matplotlib.axes._subplots.AxesSubplot at 0x7f2a98740290>"
      ]
     },
     "execution_count": 34,
     "metadata": {},
     "output_type": "execute_result"
    },
    {
     "data": {
      "image/png": "[encoded data removed]",
      "text/plain": [
       "<matplotlib.figure.Figure at 0x7f2a986d2850>"
      ]
     },
     "metadata": {},
     "output_type": "display_data"
    }
   ],
   "source": [
    "f,ax = plt.subplots(figsize=(9,6))\n",
    "sns.distplot(df.Percentchange_start_to_mid,bins=10)"
   ]
  },
  {
   "cell_type": "markdown",
   "metadata": {},
   "source": [
    "## Here we can make out that the most common percentage wise salary change from start to mid career is astonishingly in range of 60 to 70 %"
   ]
  }
 ],
 "metadata": {
  "kernelspec": {
   "display_name": "Python 2",
   "language": "python",
   "name": "python2"
  },
  "language_info": {
   "codemirror_mode": {
    "name": "ipython",
    "version": 2
   },
   "file_extension": ".py",
   "mimetype": "text/x-python",
   "name": "python",
   "nbconvert_exporter": "python",
   "pygments_lexer": "ipython2",
   "version": "2.7.13"
  }
 },
 "nbformat": 4,
 "nbformat_minor": 2
}
